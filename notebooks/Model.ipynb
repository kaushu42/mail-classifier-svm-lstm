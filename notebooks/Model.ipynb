{
 "cells": [
  {
   "cell_type": "markdown",
   "metadata": {},
   "source": [
    "# Mail Classification Model"
   ]
  },
  {
   "cell_type": "markdown",
   "metadata": {},
   "source": [
    "## Importing Libraries"
   ]
  },
  {
   "cell_type": "code",
   "execution_count": 27,
   "metadata": {},
   "outputs": [],
   "source": [
    "import os\n",
    "import pickle\n",
    "from tqdm import tqdm\n",
    "import numpy as np\n",
    "import pandas as pd\n",
    "from sklearn.feature_extraction.text import TfidfVectorizer\n",
    "from sklearn.svm import LinearSVC\n",
    "from sklearn.model_selection import train_test_split\n",
    "from sklearn.metrics import confusion_matrix, classification_report, accuracy_score\n",
    "from sklearn.preprocessing import LabelEncoder\n",
    "from tensorflow.keras.models import Sequential\n",
    "from tensorflow.keras.layers import LSTM, Dense, CuDNNLSTM\n",
    "from tensorflow.keras.backend import clear_session\n",
    "from tensorflow.keras.callbacks import EarlyStopping, ModelCheckpoint\n",
    "from tensorflow.keras.models import load_model\n",
    "import matplotlib.pyplot as plt"
   ]
  },
  {
   "cell_type": "markdown",
   "metadata": {},
   "source": [
    "### Load Dataset from Files"
   ]
  },
  {
   "cell_type": "code",
   "execution_count": null,
   "metadata": {},
   "outputs": [],
   "source": [
    "# The dataset is in the folder DATA_FOLDER\n",
    "DATA_FOLDER = 'new_data'\n",
    "texts = []\n",
    "labels = []\n",
    "folders = ['ham', 'spam', 'social', 'promotion']\n",
    "for folder in folders:\n",
    "    path = f'{DATA_FOLDER}/{folder}'\n",
    "    files = os.listdir(path)\n",
    "    print('#Files: ', len(files))\n",
    "    \n",
    "    labels += [folder]*len(files)\n",
    "    \n",
    "    for file in tqdm(files):\n",
    "        text = open(f'{path}/{file}', encoding='utf-8').read()\n",
    "        texts.append(text)"
   ]
  },
  {
   "cell_type": "code",
   "execution_count": null,
   "metadata": {},
   "outputs": [],
   "source": [
    "df = pd.DataFrame(data=[texts, labels]).T\n",
    "df.columns = ['text', 'labels']"
   ]
  },
  {
   "cell_type": "markdown",
   "metadata": {},
   "source": [
    "### Save Dataset"
   ]
  },
  {
   "cell_type": "code",
   "execution_count": null,
   "metadata": {},
   "outputs": [],
   "source": [
    "pickling_on = open(\"../models/dataset.pkl\",\"wb\")\n",
    "pickle.dump(df,pickling_on)\n",
    "pickling_on.close()"
   ]
  },
  {
   "cell_type": "markdown",
   "metadata": {},
   "source": [
    "### Load Saved Dataset"
   ]
  },
  {
   "cell_type": "code",
   "execution_count": 2,
   "metadata": {},
   "outputs": [],
   "source": [
    "pickling_on = open(\"../models/dataset.pkl\",\"rb\")\n",
    "df = pickle.load(pickling_on)\n",
    "pickling_on.close()"
   ]
  },
  {
   "cell_type": "markdown",
   "metadata": {},
   "source": [
    "### TFIDF Vectorizer Fit and Transform"
   ]
  },
  {
   "cell_type": "code",
   "execution_count": null,
   "metadata": {},
   "outputs": [],
   "source": [
    "vectorizer = TfidfVectorizer(stop_words='english', ngram_range=(1,3), max_features=200)\n",
    "x = vectorizer.fit_transform(df['text'])"
   ]
  },
  {
   "cell_type": "markdown",
   "metadata": {},
   "source": [
    "### Save Vectorizer"
   ]
  },
  {
   "cell_type": "code",
   "execution_count": 62,
   "metadata": {},
   "outputs": [],
   "source": [
    "pickling_on = open(\"../models/vectorizer.pkl\",\"wb\")\n",
    "pickle.dump(vectorizer, pickling_on)\n",
    "pickling_on.close()"
   ]
  },
  {
   "cell_type": "markdown",
   "metadata": {},
   "source": [
    "### Load Vectorizer"
   ]
  },
  {
   "cell_type": "code",
   "execution_count": 3,
   "metadata": {},
   "outputs": [
    {
     "name": "stderr",
     "output_type": "stream",
     "text": [
      "/home/kaush/.local/lib/python3.6/site-packages/sklearn/base.py:306: UserWarning: Trying to unpickle estimator TfidfTransformer from version 0.21.1 when using version 0.21.2. This might lead to breaking code or invalid results. Use at your own risk.\n",
      "  UserWarning)\n",
      "/home/kaush/.local/lib/python3.6/site-packages/sklearn/base.py:306: UserWarning: Trying to unpickle estimator TfidfVectorizer from version 0.21.1 when using version 0.21.2. This might lead to breaking code or invalid results. Use at your own risk.\n",
      "  UserWarning)\n"
     ]
    }
   ],
   "source": [
    "pickling_on = open(\"../models/vectorizer.pkl\",\"rb\")\n",
    "vectorizer = pickle.load(pickling_on)\n",
    "pickling_on.close()"
   ]
  },
  {
   "cell_type": "code",
   "execution_count": 4,
   "metadata": {},
   "outputs": [],
   "source": [
    "x = vectorizer.transform(df['text'])"
   ]
  },
  {
   "cell_type": "markdown",
   "metadata": {},
   "source": [
    "### Train Test Split of Dataset"
   ]
  },
  {
   "cell_type": "code",
   "execution_count": 5,
   "metadata": {},
   "outputs": [],
   "source": [
    "X_train, X_test, y_train, y_test = train_test_split(x, df.labels, test_size=0.10, random_state=42, shuffle = True, stratify=df.labels)"
   ]
  },
  {
   "cell_type": "markdown",
   "metadata": {},
   "source": [
    "# SVM MODEL"
   ]
  },
  {
   "cell_type": "markdown",
   "metadata": {},
   "source": [
    "## Create Model and Train"
   ]
  },
  {
   "cell_type": "code",
   "execution_count": null,
   "metadata": {},
   "outputs": [],
   "source": [
    "model = LinearSVC(C=10, class_weight='balanced', dual=True, fit_intercept=True,\n",
    "                intercept_scaling=1, loss='squared_hinge', max_iter=1000,\n",
    "                multi_class='ovr', penalty='l2', random_state=0, tol=1e-05, verbose=True)\n",
    "\n",
    "model.fit(X_train, y_train)"
   ]
  },
  {
   "cell_type": "markdown",
   "metadata": {},
   "source": [
    "### Saving SVM Model"
   ]
  },
  {
   "cell_type": "code",
   "execution_count": null,
   "metadata": {},
   "outputs": [],
   "source": [
    "pickling_on = open(\"../models/model.pkl\",\"wb\")\n",
    "pickle.dump(model,pickling_on)\n",
    "pickling_on.close()"
   ]
  },
  {
   "cell_type": "markdown",
   "metadata": {},
   "source": [
    "### Loading Saved Model"
   ]
  },
  {
   "cell_type": "code",
   "execution_count": 6,
   "metadata": {},
   "outputs": [],
   "source": [
    "pickling_on = open(\"../models/model.pkl\",\"rb\")\n",
    "model = pickle.load(pickling_on)\n",
    "pickling_on.close()"
   ]
  },
  {
   "cell_type": "markdown",
   "metadata": {},
   "source": [
    "### Test Data Prediction"
   ]
  },
  {
   "cell_type": "code",
   "execution_count": 7,
   "metadata": {},
   "outputs": [],
   "source": [
    "y_pred = model.predict(X_test)"
   ]
  },
  {
   "cell_type": "markdown",
   "metadata": {},
   "source": [
    "## Model's Accuracy Score"
   ]
  },
  {
   "cell_type": "code",
   "execution_count": 8,
   "metadata": {},
   "outputs": [
    {
     "name": "stdout",
     "output_type": "stream",
     "text": [
      "Accuracy : 94.12 %\n"
     ]
    }
   ],
   "source": [
    "accuracy = accuracy_score(y_test, y_pred)\n",
    "print(\"Accuracy : {0:.2f} %\".format(accuracy*100))"
   ]
  },
  {
   "cell_type": "markdown",
   "metadata": {},
   "source": [
    "## Model's Confusion Matrix"
   ]
  },
  {
   "cell_type": "code",
   "execution_count": 9,
   "metadata": {},
   "outputs": [
    {
     "name": "stdout",
     "output_type": "stream",
     "text": [
      "[[1518    1    1  135]\n",
      " [   0  165    0    2]\n",
      " [   1    1  131    1]\n",
      " [  73    0    1 1642]]\n"
     ]
    }
   ],
   "source": [
    "print(confusion_matrix(y_test, y_pred))"
   ]
  },
  {
   "cell_type": "markdown",
   "metadata": {},
   "source": [
    "## Model's Classification Report"
   ]
  },
  {
   "cell_type": "code",
   "execution_count": 10,
   "metadata": {},
   "outputs": [
    {
     "name": "stdout",
     "output_type": "stream",
     "text": [
      "              precision    recall  f1-score   support\n",
      "\n",
      "         ham       0.95      0.92      0.94      1655\n",
      "   promotion       0.99      0.99      0.99       167\n",
      "      social       0.98      0.98      0.98       134\n",
      "        spam       0.92      0.96      0.94      1716\n",
      "\n",
      "    accuracy                           0.94      3672\n",
      "   macro avg       0.96      0.96      0.96      3672\n",
      "weighted avg       0.94      0.94      0.94      3672\n",
      "\n"
     ]
    }
   ],
   "source": [
    "print(classification_report(y_test,y_pred))"
   ]
  },
  {
   "cell_type": "markdown",
   "metadata": {},
   "source": [
    "# LSTM MODEL"
   ]
  },
  {
   "cell_type": "markdown",
   "metadata": {},
   "source": [
    "## Build the model"
   ]
  },
  {
   "cell_type": "code",
   "execution_count": 20,
   "metadata": {},
   "outputs": [
    {
     "name": "stdout",
     "output_type": "stream",
     "text": [
      "_________________________________________________________________\n",
      "Layer (type)                 Output Shape              Param #   \n",
      "=================================================================\n",
      "cu_dnnlstm (CuDNNLSTM)       (None, 32)                4480      \n",
      "_________________________________________________________________\n",
      "dense (Dense)                (None, 4)                 132       \n",
      "=================================================================\n",
      "Total params: 4,612\n",
      "Trainable params: 4,612\n",
      "Non-trainable params: 0\n",
      "_________________________________________________________________\n",
      "None\n"
     ]
    }
   ],
   "source": [
    "clear_session()\n",
    "model = Sequential()\n",
    "model.add(CuDNNLSTM(32, input_shape=(200, 1)))\n",
    "model.add(Dense(4, activation='softmax'))\n",
    "print(model.summary())"
   ]
  },
  {
   "cell_type": "markdown",
   "metadata": {},
   "source": [
    "## If the model has been trained already, load the model\n",
    "### Run this only after the model has been trained and saved"
   ]
  },
  {
   "cell_type": "code",
   "execution_count": 12,
   "metadata": {},
   "outputs": [
    {
     "name": "stdout",
     "output_type": "stream",
     "text": [
      "_________________________________________________________________\n",
      "Layer (type)                 Output Shape              Param #   \n",
      "=================================================================\n",
      "lstm (LSTM)                  (None, 32)                4352      \n",
      "_________________________________________________________________\n",
      "dense (Dense)                (None, 4)                 132       \n",
      "=================================================================\n",
      "Total params: 4,484\n",
      "Trainable params: 4,484\n",
      "Non-trainable params: 0\n",
      "_________________________________________________________________\n",
      "None\n"
     ]
    }
   ],
   "source": [
    "model = load_model('../models/model.h5')\n",
    "print(model.summary())"
   ]
  },
  {
   "cell_type": "markdown",
   "metadata": {},
   "source": [
    "## We can use the same X_train and X_test data for the LSTM model. By using the same input data, we can compare the models quite well.\n",
    "\n",
    "**But, we need to encode the Labels. **"
   ]
  },
  {
   "cell_type": "code",
   "execution_count": 13,
   "metadata": {},
   "outputs": [],
   "source": [
    "encoder = LabelEncoder()\n",
    "y_train_lstm = encoder.fit_transform(y_train)\n",
    "y_test_lstm = encoder.fit_transform(y_test)"
   ]
  },
  {
   "cell_type": "markdown",
   "metadata": {},
   "source": [
    "## Save the encoder"
   ]
  },
  {
   "cell_type": "code",
   "execution_count": 15,
   "metadata": {},
   "outputs": [],
   "source": [
    "pickle.dump(encoder, open('../models/encoder.pkl', 'wb'))"
   ]
  },
  {
   "cell_type": "markdown",
   "metadata": {},
   "source": [
    "## Load the encoder"
   ]
  },
  {
   "cell_type": "code",
   "execution_count": 20,
   "metadata": {},
   "outputs": [],
   "source": [
    "encoder = pickle.load(open('../models/encoder.pkl', 'rb'))"
   ]
  },
  {
   "cell_type": "markdown",
   "metadata": {},
   "source": [
    "## For LSTM, we need to reshape the data"
   ]
  },
  {
   "cell_type": "code",
   "execution_count": 16,
   "metadata": {},
   "outputs": [
    {
     "name": "stdout",
     "output_type": "stream",
     "text": [
      "(33044, 200, 1) (3672, 200, 1)\n"
     ]
    }
   ],
   "source": [
    "X_train_lstm = X_train.toarray().reshape(-1, 200, 1)\n",
    "X_test_lstm = X_test.toarray().reshape(-1, 200, 1)\n",
    "print(X_train_lstm.shape, X_test_lstm.shape)"
   ]
  },
  {
   "cell_type": "markdown",
   "metadata": {},
   "source": [
    "## Callbacks for saving the model and stopping training if validation accuracy does not improve"
   ]
  },
  {
   "cell_type": "code",
   "execution_count": 23,
   "metadata": {},
   "outputs": [],
   "source": [
    "callbacks = [\n",
    "    EarlyStopping(patience=10),\n",
    "    ModelCheckpoint('../models/model.h5', period=5)\n",
    "]"
   ]
  },
  {
   "cell_type": "markdown",
   "metadata": {},
   "source": [
    "## Compile the model and fit the model on the data"
   ]
  },
  {
   "cell_type": "code",
   "execution_count": 24,
   "metadata": {},
   "outputs": [
    {
     "name": "stdout",
     "output_type": "stream",
     "text": [
      "Train on 29739 samples, validate on 3305 samples\n",
      "Epoch 1/250\n",
      "29739/29739 [==============================] - 3s 106us/sample - loss: 0.9614 - acc: 0.4747 - val_loss: 0.9259 - val_acc: 0.5207\n",
      "Epoch 2/250\n",
      "29739/29739 [==============================] - 3s 97us/sample - loss: 0.9074 - acc: 0.5179 - val_loss: 0.8933 - val_acc: 0.5147\n",
      "Epoch 3/250\n",
      "29739/29739 [==============================] - 3s 97us/sample - loss: 0.8853 - acc: 0.5193 - val_loss: 0.8979 - val_acc: 0.5247\n",
      "Epoch 4/250\n",
      "29739/29739 [==============================] - 3s 97us/sample - loss: 0.8746 - acc: 0.5309 - val_loss: 0.8717 - val_acc: 0.5280\n",
      "Epoch 5/250\n",
      "29739/29739 [==============================] - 3s 103us/sample - loss: 0.8625 - acc: 0.5343 - val_loss: 0.8652 - val_acc: 0.5343\n",
      "Epoch 6/250\n",
      "29739/29739 [==============================] - 3s 98us/sample - loss: 0.8510 - acc: 0.5439 - val_loss: 0.8468 - val_acc: 0.5398\n",
      "Epoch 7/250\n",
      "29739/29739 [==============================] - 3s 98us/sample - loss: 0.8334 - acc: 0.5614 - val_loss: 0.8296 - val_acc: 0.5585\n",
      "Epoch 8/250\n",
      "29739/29739 [==============================] - 3s 98us/sample - loss: 0.8267 - acc: 0.5716 - val_loss: 0.8246 - val_acc: 0.5658\n",
      "Epoch 9/250\n",
      "29739/29739 [==============================] - 3s 99us/sample - loss: 0.8134 - acc: 0.5745 - val_loss: 0.8163 - val_acc: 0.5722\n",
      "Epoch 10/250\n",
      "29739/29739 [==============================] - 3s 103us/sample - loss: 0.8015 - acc: 0.5921 - val_loss: 0.7892 - val_acc: 0.6018\n",
      "Epoch 11/250\n",
      "29739/29739 [==============================] - 3s 100us/sample - loss: 0.7715 - acc: 0.6187 - val_loss: 0.7985 - val_acc: 0.6024\n",
      "Epoch 12/250\n",
      "29739/29739 [==============================] - 3s 99us/sample - loss: 0.7549 - acc: 0.6394 - val_loss: 0.7840 - val_acc: 0.6079\n",
      "Epoch 13/250\n",
      "29739/29739 [==============================] - 3s 100us/sample - loss: 0.7476 - acc: 0.6432 - val_loss: 0.8527 - val_acc: 0.5670\n",
      "Epoch 14/250\n",
      "29739/29739 [==============================] - 3s 98us/sample - loss: 0.7439 - acc: 0.6443 - val_loss: 0.7292 - val_acc: 0.6578\n",
      "Epoch 15/250\n",
      "29739/29739 [==============================] - 3s 99us/sample - loss: 0.7351 - acc: 0.6511 - val_loss: 0.7286 - val_acc: 0.6572\n",
      "Epoch 16/250\n",
      "29739/29739 [==============================] - 3s 101us/sample - loss: 0.7314 - acc: 0.6519 - val_loss: 0.7356 - val_acc: 0.6578\n",
      "Epoch 17/250\n",
      "29739/29739 [==============================] - 3s 99us/sample - loss: 0.7197 - acc: 0.6587 - val_loss: 0.7684 - val_acc: 0.6139\n",
      "Epoch 18/250\n",
      "29739/29739 [==============================] - 3s 98us/sample - loss: 0.7249 - acc: 0.6541 - val_loss: 0.7291 - val_acc: 0.6708\n",
      "Epoch 19/250\n",
      "29739/29739 [==============================] - 3s 98us/sample - loss: 0.7275 - acc: 0.6569 - val_loss: 0.7265 - val_acc: 0.6690\n",
      "Epoch 20/250\n",
      "29739/29739 [==============================] - 3s 100us/sample - loss: 0.6990 - acc: 0.6733 - val_loss: 0.6946 - val_acc: 0.6787\n",
      "Epoch 21/250\n",
      "29739/29739 [==============================] - 3s 99us/sample - loss: 0.7099 - acc: 0.6700 - val_loss: 0.7057 - val_acc: 0.6753\n",
      "Epoch 22/250\n",
      "29739/29739 [==============================] - 3s 98us/sample - loss: 0.6867 - acc: 0.6815 - val_loss: 0.7195 - val_acc: 0.6608\n",
      "Epoch 23/250\n",
      "29739/29739 [==============================] - 3s 97us/sample - loss: 0.6866 - acc: 0.6829 - val_loss: 0.7530 - val_acc: 0.6378\n",
      "Epoch 24/250\n",
      "29739/29739 [==============================] - 3s 96us/sample - loss: 0.6797 - acc: 0.6890 - val_loss: 0.7321 - val_acc: 0.6472\n",
      "Epoch 25/250\n",
      "29739/29739 [==============================] - 3s 102us/sample - loss: 0.6654 - acc: 0.7000 - val_loss: 0.6564 - val_acc: 0.6965\n",
      "Epoch 26/250\n",
      "29739/29739 [==============================] - 3s 97us/sample - loss: 0.6861 - acc: 0.6838 - val_loss: 0.6684 - val_acc: 0.6947\n",
      "Epoch 27/250\n",
      "29739/29739 [==============================] - 3s 101us/sample - loss: 0.8349 - acc: 0.6038 - val_loss: 0.8436 - val_acc: 0.6179\n",
      "Epoch 28/250\n",
      "29739/29739 [==============================] - 3s 104us/sample - loss: 0.7672 - acc: 0.6344 - val_loss: 0.7318 - val_acc: 0.6578\n",
      "Epoch 29/250\n",
      "29739/29739 [==============================] - 3s 96us/sample - loss: 0.6932 - acc: 0.6776 - val_loss: 0.7444 - val_acc: 0.6266\n",
      "Epoch 30/250\n",
      "29739/29739 [==============================] - 3s 100us/sample - loss: 0.6618 - acc: 0.6998 - val_loss: 0.6590 - val_acc: 0.6893\n",
      "Epoch 31/250\n",
      "29739/29739 [==============================] - 3s 97us/sample - loss: 0.6386 - acc: 0.7115 - val_loss: 0.6849 - val_acc: 0.6914\n",
      "Epoch 32/250\n",
      "29739/29739 [==============================] - 3s 97us/sample - loss: 0.6274 - acc: 0.7178 - val_loss: 0.6978 - val_acc: 0.6657\n",
      "Epoch 33/250\n",
      "29739/29739 [==============================] - 3s 98us/sample - loss: 0.6179 - acc: 0.7236 - val_loss: 0.6580 - val_acc: 0.6917\n",
      "Epoch 34/250\n",
      "29739/29739 [==============================] - 3s 99us/sample - loss: 0.5972 - acc: 0.7310 - val_loss: 0.6194 - val_acc: 0.7228\n",
      "Epoch 35/250\n",
      "29739/29739 [==============================] - 3s 103us/sample - loss: 0.5889 - acc: 0.7373 - val_loss: 0.5671 - val_acc: 0.7492\n",
      "Epoch 36/250\n",
      "29739/29739 [==============================] - 3s 100us/sample - loss: 0.5644 - acc: 0.7522 - val_loss: 0.5542 - val_acc: 0.7555\n",
      "Epoch 37/250\n",
      "29739/29739 [==============================] - 3s 101us/sample - loss: 0.5522 - acc: 0.7618 - val_loss: 0.5999 - val_acc: 0.7295\n",
      "Epoch 38/250\n",
      "29739/29739 [==============================] - 3s 98us/sample - loss: 0.5625 - acc: 0.7545 - val_loss: 0.5563 - val_acc: 0.7549\n",
      "Epoch 39/250\n",
      "29739/29739 [==============================] - 3s 98us/sample - loss: 0.5456 - acc: 0.7652 - val_loss: 0.5387 - val_acc: 0.7670\n",
      "Epoch 40/250\n",
      "29739/29739 [==============================] - 3s 98us/sample - loss: 0.5385 - acc: 0.7683 - val_loss: 0.5814 - val_acc: 0.7407\n",
      "Epoch 41/250\n",
      "29739/29739 [==============================] - 3s 98us/sample - loss: 0.5315 - acc: 0.7753 - val_loss: 0.6139 - val_acc: 0.7313\n",
      "Epoch 42/250\n",
      "29739/29739 [==============================] - 3s 98us/sample - loss: 0.5199 - acc: 0.7815 - val_loss: 0.5650 - val_acc: 0.7507\n",
      "Epoch 43/250\n",
      "29739/29739 [==============================] - 3s 98us/sample - loss: 0.5186 - acc: 0.7800 - val_loss: 0.5096 - val_acc: 0.7855\n",
      "Epoch 44/250\n",
      "29739/29739 [==============================] - 3s 98us/sample - loss: 0.5119 - acc: 0.7860 - val_loss: 0.6250 - val_acc: 0.7098\n",
      "Epoch 45/250\n",
      "29739/29739 [==============================] - 3s 99us/sample - loss: 0.5294 - acc: 0.7769 - val_loss: 0.5267 - val_acc: 0.7752\n",
      "Epoch 46/250\n",
      "29739/29739 [==============================] - 3s 98us/sample - loss: 0.5010 - acc: 0.7914 - val_loss: 0.5011 - val_acc: 0.7921\n",
      "Epoch 47/250\n",
      "29739/29739 [==============================] - 3s 98us/sample - loss: 0.4901 - acc: 0.7991 - val_loss: 0.5148 - val_acc: 0.7861\n",
      "Epoch 48/250\n",
      "29739/29739 [==============================] - 3s 97us/sample - loss: 0.4873 - acc: 0.7980 - val_loss: 0.5047 - val_acc: 0.7876\n",
      "Epoch 49/250\n",
      "29739/29739 [==============================] - 3s 99us/sample - loss: 0.4755 - acc: 0.8060 - val_loss: 0.5207 - val_acc: 0.7776\n",
      "Epoch 50/250\n",
      "29739/29739 [==============================] - 3s 99us/sample - loss: 0.4821 - acc: 0.8024 - val_loss: 0.4928 - val_acc: 0.7952\n",
      "Epoch 51/250\n",
      "29739/29739 [==============================] - 3s 98us/sample - loss: 0.4701 - acc: 0.8097 - val_loss: 0.4707 - val_acc: 0.8042\n",
      "Epoch 52/250\n",
      "29739/29739 [==============================] - 3s 97us/sample - loss: 0.4727 - acc: 0.8061 - val_loss: 0.5692 - val_acc: 0.7492\n",
      "Epoch 53/250\n",
      "29739/29739 [==============================] - 3s 98us/sample - loss: 0.4885 - acc: 0.7976 - val_loss: 0.4798 - val_acc: 0.7982\n",
      "Epoch 54/250\n",
      "29739/29739 [==============================] - 3s 98us/sample - loss: 0.4582 - acc: 0.8132 - val_loss: 0.4691 - val_acc: 0.8033\n",
      "Epoch 55/250\n",
      "29739/29739 [==============================] - 3s 99us/sample - loss: 0.4462 - acc: 0.8174 - val_loss: 0.5088 - val_acc: 0.7794\n",
      "Epoch 56/250\n",
      "29739/29739 [==============================] - 3s 99us/sample - loss: 0.4630 - acc: 0.8092 - val_loss: 0.4603 - val_acc: 0.8085\n",
      "Epoch 57/250\n",
      "29739/29739 [==============================] - 3s 105us/sample - loss: 0.4358 - acc: 0.8242 - val_loss: 0.4448 - val_acc: 0.8142\n",
      "Epoch 58/250\n",
      "29739/29739 [==============================] - 3s 101us/sample - loss: 0.4312 - acc: 0.8249 - val_loss: 0.4491 - val_acc: 0.8136\n"
     ]
    },
    {
     "name": "stdout",
     "output_type": "stream",
     "text": [
      "Epoch 59/250\n",
      "29739/29739 [==============================] - 3s 100us/sample - loss: 0.4374 - acc: 0.8226 - val_loss: 0.4977 - val_acc: 0.7912\n",
      "Epoch 60/250\n",
      "29739/29739 [==============================] - 3s 99us/sample - loss: 0.4244 - acc: 0.8288 - val_loss: 0.4326 - val_acc: 0.8175\n",
      "Epoch 61/250\n",
      "29739/29739 [==============================] - 3s 97us/sample - loss: 0.4262 - acc: 0.8250 - val_loss: 0.6610 - val_acc: 0.7129\n",
      "Epoch 62/250\n",
      "29739/29739 [==============================] - 3s 98us/sample - loss: 0.4354 - acc: 0.8206 - val_loss: 0.4275 - val_acc: 0.8209\n",
      "Epoch 63/250\n",
      "29739/29739 [==============================] - 3s 98us/sample - loss: 0.4168 - acc: 0.8323 - val_loss: 0.4596 - val_acc: 0.8054\n",
      "Epoch 64/250\n",
      "29739/29739 [==============================] - 3s 97us/sample - loss: 0.4138 - acc: 0.8336 - val_loss: 0.4227 - val_acc: 0.8254\n",
      "Epoch 65/250\n",
      "29739/29739 [==============================] - 3s 102us/sample - loss: 0.4032 - acc: 0.8383 - val_loss: 0.4287 - val_acc: 0.8230\n",
      "Epoch 66/250\n",
      "29739/29739 [==============================] - 3s 101us/sample - loss: 0.4203 - acc: 0.8288 - val_loss: 0.5171 - val_acc: 0.7858\n",
      "Epoch 67/250\n",
      "29739/29739 [==============================] - 3s 98us/sample - loss: 0.4243 - acc: 0.8265 - val_loss: 0.4165 - val_acc: 0.8236\n",
      "Epoch 68/250\n",
      "29739/29739 [==============================] - 3s 97us/sample - loss: 0.3960 - acc: 0.8425 - val_loss: 0.5329 - val_acc: 0.7700\n",
      "Epoch 69/250\n",
      "29739/29739 [==============================] - 3s 98us/sample - loss: 0.4120 - acc: 0.8332 - val_loss: 0.4139 - val_acc: 0.8312\n",
      "Epoch 70/250\n",
      "29739/29739 [==============================] - 3s 99us/sample - loss: 0.3924 - acc: 0.8434 - val_loss: 0.6669 - val_acc: 0.7165\n",
      "Epoch 71/250\n",
      "29739/29739 [==============================] - 3s 98us/sample - loss: 0.4116 - acc: 0.8316 - val_loss: 0.4225 - val_acc: 0.8272\n",
      "Epoch 72/250\n",
      "29739/29739 [==============================] - 3s 97us/sample - loss: 0.3935 - acc: 0.8426 - val_loss: 0.4116 - val_acc: 0.8266\n",
      "Epoch 73/250\n",
      "29739/29739 [==============================] - 3s 97us/sample - loss: 0.3942 - acc: 0.8409 - val_loss: 0.4480 - val_acc: 0.8136\n",
      "Epoch 74/250\n",
      "29739/29739 [==============================] - 3s 97us/sample - loss: 0.3888 - acc: 0.8443 - val_loss: 0.5058 - val_acc: 0.7918\n",
      "Epoch 75/250\n",
      "29739/29739 [==============================] - 3s 99us/sample - loss: 0.3852 - acc: 0.8465 - val_loss: 0.3963 - val_acc: 0.8384\n",
      "Epoch 76/250\n",
      "29739/29739 [==============================] - 3s 98us/sample - loss: 0.3740 - acc: 0.8498 - val_loss: 0.3928 - val_acc: 0.8342\n",
      "Epoch 77/250\n",
      "29739/29739 [==============================] - 3s 98us/sample - loss: 0.3704 - acc: 0.8536 - val_loss: 0.4376 - val_acc: 0.8142\n",
      "Epoch 78/250\n",
      "29739/29739 [==============================] - 3s 97us/sample - loss: 0.3775 - acc: 0.8507 - val_loss: 0.3830 - val_acc: 0.8411\n",
      "Epoch 79/250\n",
      "29739/29739 [==============================] - 3s 99us/sample - loss: 0.3695 - acc: 0.8524 - val_loss: 0.3854 - val_acc: 0.8390\n",
      "Epoch 80/250\n",
      "29739/29739 [==============================] - 3s 99us/sample - loss: 0.3798 - acc: 0.8489 - val_loss: 0.3871 - val_acc: 0.8469\n",
      "Epoch 81/250\n",
      "29739/29739 [==============================] - 3s 98us/sample - loss: 0.3762 - acc: 0.8496 - val_loss: 0.5507 - val_acc: 0.7761\n",
      "Epoch 82/250\n",
      "29739/29739 [==============================] - 3s 100us/sample - loss: 0.3781 - acc: 0.8495 - val_loss: 0.4301 - val_acc: 0.8224\n",
      "Epoch 83/250\n",
      "29739/29739 [==============================] - 3s 99us/sample - loss: 0.3768 - acc: 0.8503 - val_loss: 0.4167 - val_acc: 0.8272\n",
      "Epoch 84/250\n",
      "29739/29739 [==============================] - 3s 96us/sample - loss: 0.3682 - acc: 0.8531 - val_loss: 0.4025 - val_acc: 0.8375\n",
      "Epoch 85/250\n",
      "29739/29739 [==============================] - 3s 97us/sample - loss: 0.3639 - acc: 0.8556 - val_loss: 0.3799 - val_acc: 0.8451\n",
      "Epoch 86/250\n",
      "29739/29739 [==============================] - 3s 97us/sample - loss: 0.3641 - acc: 0.8564 - val_loss: 0.4703 - val_acc: 0.8118\n",
      "Epoch 87/250\n",
      "29739/29739 [==============================] - 3s 97us/sample - loss: 0.3719 - acc: 0.8526 - val_loss: 0.3743 - val_acc: 0.8427\n",
      "Epoch 88/250\n",
      "29739/29739 [==============================] - 3s 98us/sample - loss: 0.3590 - acc: 0.8564 - val_loss: 0.3830 - val_acc: 0.8357\n",
      "Epoch 89/250\n",
      "29739/29739 [==============================] - 3s 100us/sample - loss: 0.3544 - acc: 0.8595 - val_loss: 0.3848 - val_acc: 0.8393\n",
      "Epoch 90/250\n",
      "29739/29739 [==============================] - 3s 102us/sample - loss: 0.3622 - acc: 0.8545 - val_loss: 0.3740 - val_acc: 0.8457\n",
      "Epoch 91/250\n",
      "29739/29739 [==============================] - 3s 101us/sample - loss: 0.3476 - acc: 0.8624 - val_loss: 0.4253 - val_acc: 0.8245\n",
      "Epoch 92/250\n",
      "29739/29739 [==============================] - 3s 98us/sample - loss: 0.3519 - acc: 0.8603 - val_loss: 0.3706 - val_acc: 0.8424\n",
      "Epoch 93/250\n",
      "29739/29739 [==============================] - 3s 100us/sample - loss: 0.3531 - acc: 0.8590 - val_loss: 0.3726 - val_acc: 0.8448\n",
      "Epoch 94/250\n",
      "29739/29739 [==============================] - 3s 99us/sample - loss: 0.3488 - acc: 0.8640 - val_loss: 0.4131 - val_acc: 0.8312\n",
      "Epoch 95/250\n",
      "29739/29739 [==============================] - 3s 98us/sample - loss: 0.3578 - acc: 0.8579 - val_loss: 0.4470 - val_acc: 0.8088\n",
      "Epoch 96/250\n",
      "29739/29739 [==============================] - 3s 96us/sample - loss: 0.3734 - acc: 0.8507 - val_loss: 0.3708 - val_acc: 0.8424\n",
      "Epoch 97/250\n",
      "29739/29739 [==============================] - 3s 96us/sample - loss: 0.3473 - acc: 0.8641 - val_loss: 0.3873 - val_acc: 0.8402\n",
      "Epoch 98/250\n",
      "29739/29739 [==============================] - 3s 98us/sample - loss: 0.3535 - acc: 0.8589 - val_loss: 0.3772 - val_acc: 0.8454\n",
      "Epoch 99/250\n",
      "29739/29739 [==============================] - 3s 95us/sample - loss: 0.3532 - acc: 0.8589 - val_loss: 0.4170 - val_acc: 0.8290\n",
      "Epoch 100/250\n",
      "29739/29739 [==============================] - 3s 97us/sample - loss: 0.3318 - acc: 0.8676 - val_loss: 0.3610 - val_acc: 0.8478\n",
      "Epoch 101/250\n",
      "29739/29739 [==============================] - 3s 97us/sample - loss: 0.3521 - acc: 0.8607 - val_loss: 0.3951 - val_acc: 0.8357\n",
      "Epoch 102/250\n",
      "29739/29739 [==============================] - 3s 95us/sample - loss: 0.3485 - acc: 0.8616 - val_loss: 0.3665 - val_acc: 0.8539\n",
      "Epoch 103/250\n",
      "29739/29739 [==============================] - 3s 97us/sample - loss: 0.3471 - acc: 0.8617 - val_loss: 0.4191 - val_acc: 0.8257\n",
      "Epoch 104/250\n",
      "29739/29739 [==============================] - 3s 96us/sample - loss: 0.3426 - acc: 0.8644 - val_loss: 0.3575 - val_acc: 0.8514\n",
      "Epoch 105/250\n",
      "29739/29739 [==============================] - 3s 103us/sample - loss: 0.3269 - acc: 0.8715 - val_loss: 0.4165 - val_acc: 0.8351\n",
      "Epoch 106/250\n",
      "29739/29739 [==============================] - 3s 99us/sample - loss: 0.3445 - acc: 0.8627 - val_loss: 0.3534 - val_acc: 0.8572\n",
      "Epoch 107/250\n",
      "29739/29739 [==============================] - 3s 102us/sample - loss: 0.3411 - acc: 0.8653 - val_loss: 0.4020 - val_acc: 0.8375\n",
      "Epoch 108/250\n",
      "29739/29739 [==============================] - 3s 103us/sample - loss: 0.3416 - acc: 0.8649 - val_loss: 0.4107 - val_acc: 0.8287\n",
      "Epoch 109/250\n",
      "29739/29739 [==============================] - 3s 104us/sample - loss: 0.3322 - acc: 0.8682 - val_loss: 0.4824 - val_acc: 0.7979\n",
      "Epoch 110/250\n",
      "29739/29739 [==============================] - 3s 107us/sample - loss: 0.3529 - acc: 0.8597 - val_loss: 0.3695 - val_acc: 0.8505\n",
      "Epoch 111/250\n",
      "29739/29739 [==============================] - 3s 101us/sample - loss: 0.3249 - acc: 0.8742 - val_loss: 0.3621 - val_acc: 0.8581\n",
      "Epoch 112/250\n",
      "29739/29739 [==============================] - 3s 99us/sample - loss: 0.3286 - acc: 0.8710 - val_loss: 0.3645 - val_acc: 0.8490\n",
      "Epoch 113/250\n",
      "29739/29739 [==============================] - 3s 98us/sample - loss: 0.3248 - acc: 0.8735 - val_loss: 0.4246 - val_acc: 0.8236\n",
      "Epoch 114/250\n",
      "29739/29739 [==============================] - 3s 95us/sample - loss: 0.3247 - acc: 0.8710 - val_loss: 0.3717 - val_acc: 0.8466\n",
      "Epoch 115/250\n",
      "29739/29739 [==============================] - 3s 100us/sample - loss: 0.3240 - acc: 0.8722 - val_loss: 0.3600 - val_acc: 0.8542\n",
      "Epoch 116/250\n",
      "29739/29739 [==============================] - 3s 97us/sample - loss: 0.3220 - acc: 0.8727 - val_loss: 0.3426 - val_acc: 0.8584\n"
     ]
    },
    {
     "name": "stdout",
     "output_type": "stream",
     "text": [
      "Epoch 117/250\n",
      "29739/29739 [==============================] - 3s 95us/sample - loss: 0.3123 - acc: 0.8795 - val_loss: 0.3368 - val_acc: 0.8623\n",
      "Epoch 118/250\n",
      "29739/29739 [==============================] - 3s 99us/sample - loss: 0.3165 - acc: 0.8751 - val_loss: 0.3768 - val_acc: 0.8439\n",
      "Epoch 119/250\n",
      "29739/29739 [==============================] - 3s 99us/sample - loss: 0.3159 - acc: 0.8752 - val_loss: 0.3788 - val_acc: 0.8514\n",
      "Epoch 120/250\n",
      "29739/29739 [==============================] - 3s 100us/sample - loss: 0.3183 - acc: 0.8748 - val_loss: 0.3356 - val_acc: 0.8666\n",
      "Epoch 121/250\n",
      "29739/29739 [==============================] - 3s 97us/sample - loss: 0.3340 - acc: 0.8681 - val_loss: 0.3582 - val_acc: 0.8548\n",
      "Epoch 122/250\n",
      "29739/29739 [==============================] - 3s 95us/sample - loss: 0.3103 - acc: 0.8779 - val_loss: 0.3500 - val_acc: 0.8575\n",
      "Epoch 123/250\n",
      "29739/29739 [==============================] - 3s 99us/sample - loss: 0.3200 - acc: 0.8735 - val_loss: 0.3395 - val_acc: 0.8669\n",
      "Epoch 124/250\n",
      "29739/29739 [==============================] - 3s 101us/sample - loss: 0.3493 - acc: 0.8619 - val_loss: 0.3337 - val_acc: 0.8620\n",
      "Epoch 125/250\n",
      "29739/29739 [==============================] - 3s 100us/sample - loss: 0.3196 - acc: 0.8738 - val_loss: 0.3882 - val_acc: 0.8436\n",
      "Epoch 126/250\n",
      "29739/29739 [==============================] - 3s 99us/sample - loss: 0.3214 - acc: 0.8730 - val_loss: 0.3334 - val_acc: 0.8635\n",
      "Epoch 127/250\n",
      "29739/29739 [==============================] - 3s 97us/sample - loss: 0.3079 - acc: 0.8792 - val_loss: 0.3434 - val_acc: 0.8611\n",
      "Epoch 128/250\n",
      "29739/29739 [==============================] - 3s 99us/sample - loss: 0.3139 - acc: 0.8770 - val_loss: 0.3464 - val_acc: 0.8605\n",
      "Epoch 129/250\n",
      "29739/29739 [==============================] - 3s 98us/sample - loss: 0.3079 - acc: 0.8784 - val_loss: 0.3739 - val_acc: 0.8466\n",
      "Epoch 130/250\n",
      "29739/29739 [==============================] - 3s 95us/sample - loss: 0.3222 - acc: 0.8721 - val_loss: 0.4177 - val_acc: 0.8263\n",
      "Epoch 131/250\n",
      "29739/29739 [==============================] - 3s 101us/sample - loss: 0.3189 - acc: 0.8741 - val_loss: 0.4436 - val_acc: 0.8115\n",
      "Epoch 132/250\n",
      "29739/29739 [==============================] - 3s 101us/sample - loss: 0.3259 - acc: 0.8711 - val_loss: 0.3531 - val_acc: 0.8563\n",
      "Epoch 133/250\n",
      "29739/29739 [==============================] - 3s 99us/sample - loss: 0.3087 - acc: 0.8762 - val_loss: 0.4386 - val_acc: 0.8221\n",
      "Epoch 134/250\n",
      "29739/29739 [==============================] - 3s 96us/sample - loss: 0.3138 - acc: 0.8761 - val_loss: 0.4507 - val_acc: 0.8179\n",
      "Epoch 135/250\n",
      "29739/29739 [==============================] - 3s 100us/sample - loss: 0.3461 - acc: 0.8609 - val_loss: 0.3498 - val_acc: 0.8614\n",
      "Epoch 136/250\n",
      "29739/29739 [==============================] - 3s 99us/sample - loss: 0.3108 - acc: 0.8784 - val_loss: 0.3487 - val_acc: 0.8590\n"
     ]
    },
    {
     "data": {
      "text/plain": [
       "<tensorflow.python.keras.callbacks.History at 0x7f5695362d30>"
      ]
     },
     "execution_count": 24,
     "metadata": {},
     "output_type": "execute_result"
    }
   ],
   "source": [
    "model.compile(loss='sparse_categorical_crossentropy', optimizer='adam', metrics=['accuracy'])\n",
    "model.fit(X_train_lstm, y_train_lstm, batch_size=512, epochs=250, validation_split=0.1, callbacks=callbacks)"
   ]
  },
  {
   "cell_type": "code",
   "execution_count": 25,
   "metadata": {},
   "outputs": [],
   "source": [
    "pickle.dump(model.history.history, open('../models/history.pkl', 'wb'))"
   ]
  },
  {
   "cell_type": "code",
   "execution_count": 38,
   "metadata": {},
   "outputs": [],
   "source": [
    "train_loss = model.history.history['loss']\n",
    "train_acc = model.history.history['acc']\n",
    "val_loss = model.history.history['val_loss']\n",
    "val_acc = model.history.history['val_acc']"
   ]
  },
  {
   "cell_type": "code",
   "execution_count": 42,
   "metadata": {
    "scrolled": true
   },
   "outputs": [
    {
     "data": {
      "image/png": "[encoded data removed]",
      "text/plain": [
       "<Figure size 432x288 with 1 Axes>"
      ]
     },
     "metadata": {},
     "output_type": "display_data"
    }
   ],
   "source": [
    "plt.xlabel('Epochs')\n",
    "plt.ylabel('Training Loss')\n",
    "plt.plot(train_loss, label='Training Loss')\n",
    "plt.xlabel('Epochs')\n",
    "plt.ylabel('Validation Loss')\n",
    "plt.plot(val_loss, label='Validation Loss')\n",
    "plt.legend()\n",
    "plt.show()"
   ]
  },
  {
   "cell_type": "code",
   "execution_count": 37,
   "metadata": {},
   "outputs": [
    {
     "data": {
      "image/png": "[encoded data removed]",
      "text/plain": [
       "<Figure size 432x288 with 1 Axes>"
      ]
     },
     "metadata": {},
     "output_type": "display_data"
    }
   ],
   "source": [
    "plt.xlabel('Epochs')\n",
    "plt.ylabel('Validation Accuracy')\n",
    "plt.plot(val_acc, label='Validation Accuracy')\n",
    "plt.xlabel('Epochs')\n",
    "plt.ylabel('Train Accuracy')\n",
    "plt.plot(train_acc, label='Training Accuracy')\n",
    "plt.legend()\n",
    "plt.show()"
   ]
  },
  {
   "cell_type": "markdown",
   "metadata": {},
   "source": [
    "## Predict the labels"
   ]
  },
  {
   "cell_type": "code",
   "execution_count": null,
   "metadata": {},
   "outputs": [],
   "source": [
    "preds = model.predict_classes(X_test_lstm)"
   ]
  },
  {
   "cell_type": "markdown",
   "metadata": {},
   "source": [
    "## Confusion Matrix"
   ]
  },
  {
   "cell_type": "code",
   "execution_count": null,
   "metadata": {},
   "outputs": [],
   "source": [
    "print(confusion_matrix(y_test_lstm, preds))"
   ]
  },
  {
   "cell_type": "markdown",
   "metadata": {},
   "source": [
    "## Accuracy"
   ]
  },
  {
   "cell_type": "code",
   "execution_count": null,
   "metadata": {},
   "outputs": [],
   "source": [
    "accuracy = accuracy_score(y_test_lstm, preds)\n",
    "print(\"Accuracy : {0:.2f} %\".format(accuracy*100))"
   ]
  },
  {
   "cell_type": "markdown",
   "metadata": {},
   "source": [
    "## Classification Report"
   ]
  },
  {
   "cell_type": "code",
   "execution_count": null,
   "metadata": {},
   "outputs": [],
   "source": [
    "print(classification_report(y_test_lstm, preds))"
   ]
  },
  {
   "cell_type": "markdown",
   "metadata": {},
   "source": [
    "# Receiver Operating Characteristic of Classifier"
   ]
  },
  {
   "cell_type": "code",
   "execution_count": 10,
   "metadata": {},
   "outputs": [
    {
     "data": {
      "image/png": "[encoded data removed]",
      "text/plain": [
       "<Figure size 720x720 with 1 Axes>"
      ]
     },
     "metadata": {
      "needs_background": "light"
     },
     "output_type": "display_data"
    }
   ],
   "source": [
    "import matplotlib.pyplot as plt\n",
    "from scipy import interp\n",
    "from itertools import cycle\n",
    "from sklearn.preprocessing import label_binarize\n",
    "from sklearn.metrics import roc_curve, auc\n",
    "\n",
    "## Compute ROC curve and ROC area for each class\n",
    "y_test = label_binarize(y_test, classes=['ham', 'promotion', 'social', 'spam'])\n",
    "y_score = model.decision_function(X_test)\n",
    "\n",
    "fpr = dict()\n",
    "tpr = dict()\n",
    "roc_auc = dict()\n",
    "\n",
    "classes=['ham', 'promotion', 'social', 'spam']\n",
    "n_classes = 4\n",
    "\n",
    "for i in range(n_classes):\n",
    "    fpr[i], tpr[i], _ = roc_curve(y_test[:, i], y_score[:, i])\n",
    "    roc_auc[i] = auc(fpr[i], tpr[i])\n",
    "\n",
    "# Compute micro-average ROC curve and ROC area\n",
    "fpr[\"micro\"], tpr[\"micro\"], _ = roc_curve(y_test.ravel(), y_score.ravel())\n",
    "roc_auc[\"micro\"] = auc(fpr[\"micro\"], tpr[\"micro\"])\n",
    "\n",
    "# Compute macro-average ROC curve and ROC area\n",
    "lw=2\n",
    "\n",
    "# First aggregate all false positive rates\n",
    "all_fpr = np.unique(np.concatenate([fpr[i] for i in range(n_classes)]))\n",
    "\n",
    "# Then interpolate all ROC curves at this points\n",
    "mean_tpr = np.zeros_like(all_fpr)\n",
    "for i in range(n_classes):\n",
    "    mean_tpr += interp(all_fpr, fpr[i], tpr[i])\n",
    "\n",
    "# Finally average it and compute AUC\n",
    "mean_tpr /= n_classes\n",
    "\n",
    "fpr[\"macro\"] = all_fpr\n",
    "tpr[\"macro\"] = mean_tpr\n",
    "roc_auc[\"macro\"] = auc(fpr[\"macro\"], tpr[\"macro\"])\n",
    "\n",
    "# Plot all ROC curves\n",
    "plt.figure(figsize=(10, 10))\n",
    "plt.plot(fpr[\"micro\"], tpr[\"micro\"],\n",
    "         label='micro-average ROC curve (area = {0:0.2f})'\n",
    "               ''.format(roc_auc[\"micro\"]),\n",
    "         color='deeppink', linestyle=':', linewidth=4)\n",
    "\n",
    "plt.plot(fpr[\"macro\"], tpr[\"macro\"],\n",
    "         label='macro-average ROC curve (area = {0:0.2f})'\n",
    "               ''.format(roc_auc[\"macro\"]),\n",
    "         color='navy', linestyle=':', linewidth=4)\n",
    "\n",
    "colors = cycle(['aqua', 'darkorange', 'cornflowerblue', 'green'])\n",
    "for i, color in zip(range(4), colors):\n",
    "    plt.plot(fpr[i], tpr[i], color=color, lw=lw,\n",
    "             label='ROC curve of class {0} (area = {1:0.2f})'\n",
    "             ''.format(classes[i], roc_auc[i]))\n",
    "\n",
    "plt.plot([0, 1], [0, 1], 'k--', lw=lw)\n",
    "plt.xlim([0.0, 1.0])\n",
    "plt.ylim([0.0, 1.05])\n",
    "plt.xlabel('False Positive Rate')\n",
    "plt.ylabel('True Positive Rate')\n",
    "plt.title('Receiver operating characteristicof Spam Classifier')\n",
    "plt.legend(loc=\"lower right\")\n",
    "plt.show()"
   ]
  }
 ],
 "metadata": {
  "kernelspec": {
   "display_name": "Python 3",
   "language": "python",
   "name": "python3"
  },
  "language_info": {
   "codemirror_mode": {
    "name": "ipython",
    "version": 3
   },
   "file_extension": ".py",
   "mimetype": "text/x-python",
   "name": "python",
   "nbconvert_exporter": "python",
   "pygments_lexer": "ipython3",
   "version": "3.6.7"
  }
 },
 "nbformat": 4,
 "nbformat_minor": 2
}
