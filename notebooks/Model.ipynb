{
 "cells": [
  {
   "cell_type": "markdown",
   "metadata": {},
   "source": [
    "# Mail Classification Model"
   ]
  },
  {
   "cell_type": "markdown",
   "metadata": {},
   "source": [
    "## Importing Libraries"
   ]
  },
  {
   "cell_type": "code",
   "execution_count": 1,
   "metadata": {},
   "outputs": [],
   "source": [
    "import os\n",
    "import pickle\n",
    "from tqdm import tqdm\n",
    "import numpy as np\n",
    "import pandas as pd\n",
    "from sklearn.feature_extraction.text import TfidfVectorizer\n",
    "from sklearn.svm import LinearSVC\n",
    "from sklearn.model_selection import train_test_split\n",
    "from sklearn.metrics import confusion_matrix, classification_report, accuracy_score\n",
    "from sklearn.preprocessing import LabelEncoder\n",
    "from tensorflow.keras.models import Sequential\n",
    "from tensorflow.keras.layers import LSTM, Dense, CuDNNLSTM\n",
    "from tensorflow.keras.backend import clear_session\n",
    "from tensorflow.keras.callbacks import EarlyStopping, ModelCheckpoint\n",
    "from tensorflow.keras.models import load_model\n",
    "import matplotlib.pyplot as plt"
   ]
  },
  {
   "cell_type": "markdown",
   "metadata": {},
   "source": [
    "### Load Dataset from Files"
   ]
  },
  {
   "cell_type": "code",
   "execution_count": 2,
   "metadata": {},
   "outputs": [
    {
     "ename": "FileNotFoundError",
     "evalue": "[Errno 2] No such file or directory: 'new_data/ham'",
     "output_type": "error",
     "traceback": [
      "\u001b[0;31m---------------------------------------------------------------------------\u001b[0m",
      "\u001b[0;31mFileNotFoundError\u001b[0m                         Traceback (most recent call last)",
      "\u001b[0;32m<ipython-input-2-0b9939b37466>\u001b[0m in \u001b[0;36m<module>\u001b[0;34m()\u001b[0m\n\u001b[1;32m      6\u001b[0m \u001b[0;32mfor\u001b[0m \u001b[0mfolder\u001b[0m \u001b[0;32min\u001b[0m \u001b[0mfolders\u001b[0m\u001b[0;34m:\u001b[0m\u001b[0;34m\u001b[0m\u001b[0;34m\u001b[0m\u001b[0m\n\u001b[1;32m      7\u001b[0m     \u001b[0mpath\u001b[0m \u001b[0;34m=\u001b[0m \u001b[0;34mf'{DATA_FOLDER}/{folder}'\u001b[0m\u001b[0;34m\u001b[0m\u001b[0;34m\u001b[0m\u001b[0m\n\u001b[0;32m----> 8\u001b[0;31m     \u001b[0mfiles\u001b[0m \u001b[0;34m=\u001b[0m \u001b[0mos\u001b[0m\u001b[0;34m.\u001b[0m\u001b[0mlistdir\u001b[0m\u001b[0;34m(\u001b[0m\u001b[0mpath\u001b[0m\u001b[0;34m)\u001b[0m\u001b[0;34m\u001b[0m\u001b[0;34m\u001b[0m\u001b[0m\n\u001b[0m\u001b[1;32m      9\u001b[0m     \u001b[0mprint\u001b[0m\u001b[0;34m(\u001b[0m\u001b[0;34m'#Files: '\u001b[0m\u001b[0;34m,\u001b[0m \u001b[0mlen\u001b[0m\u001b[0;34m(\u001b[0m\u001b[0mfiles\u001b[0m\u001b[0;34m)\u001b[0m\u001b[0;34m)\u001b[0m\u001b[0;34m\u001b[0m\u001b[0;34m\u001b[0m\u001b[0m\n\u001b[1;32m     10\u001b[0m \u001b[0;34m\u001b[0m\u001b[0m\n",
      "\u001b[0;31mFileNotFoundError\u001b[0m: [Errno 2] No such file or directory: 'new_data/ham'"
     ]
    }
   ],
   "source": [
    "# The dataset is in the folder DATA_FOLDER\n",
    "DATA_FOLDER = 'new_data'\n",
    "texts = []\n",
    "labels = []\n",
    "folders = ['ham', 'spam', 'social', 'promotion']\n",
    "for folder in folders:\n",
    "    path = f'{DATA_FOLDER}/{folder}'\n",
    "    files = os.listdir(path)\n",
    "    print('#Files: ', len(files))\n",
    "    \n",
    "    labels += [folder]*len(files)\n",
    "    \n",
    "    for file in tqdm(files):\n",
    "        text = open(f'{path}/{file}', encoding='utf-8').read()\n",
    "        texts.append(text)"
   ]
  },
  {
   "cell_type": "code",
   "execution_count": null,
   "metadata": {},
   "outputs": [],
   "source": [
    "df = pd.DataFrame(data=[texts, labels]).T\n",
    "df.columns = ['text', 'labels']"
   ]
  },
  {
   "cell_type": "markdown",
   "metadata": {},
   "source": [
    "### Save Dataset"
   ]
  },
  {
   "cell_type": "code",
   "execution_count": null,
   "metadata": {},
   "outputs": [],
   "source": [
    "pickling_on = open(\"../models/dataset.pkl\",\"wb\")\n",
    "pickle.dump(df,pickling_on)\n",
    "pickling_on.close()"
   ]
  },
  {
   "cell_type": "markdown",
   "metadata": {},
   "source": [
    "### Load Saved Dataset"
   ]
  },
  {
   "cell_type": "code",
   "execution_count": 3,
   "metadata": {},
   "outputs": [],
   "source": [
    "pickling_on = open(\"../models/dataset.pkl\",\"rb\")\n",
    "df = pickle.load(pickling_on)\n",
    "pickling_on.close()"
   ]
  },
  {
   "cell_type": "markdown",
   "metadata": {},
   "source": [
    "### TFIDF Vectorizer Fit and Transform"
   ]
  },
  {
   "cell_type": "code",
   "execution_count": null,
   "metadata": {},
   "outputs": [],
   "source": [
    "vectorizer = TfidfVectorizer(stop_words='english', ngram_range=(1,3), max_features=200)\n",
    "x = vectorizer.fit_transform(df['text'])"
   ]
  },
  {
   "cell_type": "markdown",
   "metadata": {},
   "source": [
    "### Save Vectorizer"
   ]
  },
  {
   "cell_type": "code",
   "execution_count": 62,
   "metadata": {},
   "outputs": [],
   "source": [
    "pickling_on = open(\"../models/vectorizer.pkl\",\"wb\")\n",
    "pickle.dump(vectorizer, pickling_on)\n",
    "pickling_on.close()"
   ]
  },
  {
   "cell_type": "markdown",
   "metadata": {},
   "source": [
    "### Load Vectorizer"
   ]
  },
  {
   "cell_type": "code",
   "execution_count": 4,
   "metadata": {},
   "outputs": [
    {
     "name": "stderr",
     "output_type": "stream",
     "text": [
      "/home/kaush/.local/lib/python3.6/site-packages/sklearn/base.py:306: UserWarning: Trying to unpickle estimator TfidfTransformer from version 0.21.1 when using version 0.21.2. This might lead to breaking code or invalid results. Use at your own risk.\n",
      "  UserWarning)\n",
      "/home/kaush/.local/lib/python3.6/site-packages/sklearn/base.py:306: UserWarning: Trying to unpickle estimator TfidfVectorizer from version 0.21.1 when using version 0.21.2. This might lead to breaking code or invalid results. Use at your own risk.\n",
      "  UserWarning)\n"
     ]
    }
   ],
   "source": [
    "pickling_on = open(\"../models/vectorizer.pkl\",\"rb\")\n",
    "vectorizer = pickle.load(pickling_on)\n",
    "pickling_on.close()"
   ]
  },
  {
   "cell_type": "code",
   "execution_count": 5,
   "metadata": {},
   "outputs": [],
   "source": [
    "x = vectorizer.transform(df['text'])"
   ]
  },
  {
   "cell_type": "markdown",
   "metadata": {},
   "source": [
    "### Train Test Split of Dataset"
   ]
  },
  {
   "cell_type": "code",
   "execution_count": 6,
   "metadata": {},
   "outputs": [],
   "source": [
    "X_train, X_test, y_train, y_test = train_test_split(x, df.labels, test_size=0.10, random_state=42, shuffle = True, stratify=df.labels)"
   ]
  },
  {
   "cell_type": "markdown",
   "metadata": {},
   "source": [
    "# SVM MODEL"
   ]
  },
  {
   "cell_type": "markdown",
   "metadata": {},
   "source": [
    "## Create Model and Train"
   ]
  },
  {
   "cell_type": "code",
   "execution_count": null,
   "metadata": {},
   "outputs": [],
   "source": [
    "model = LinearSVC(C=10, class_weight='balanced', dual=True, fit_intercept=True,\n",
    "                intercept_scaling=1, loss='squared_hinge', max_iter=1000,\n",
    "                multi_class='ovr', penalty='l2', random_state=0, tol=1e-05, verbose=True)\n",
    "\n",
    "model.fit(X_train, y_train)"
   ]
  },
  {
   "cell_type": "markdown",
   "metadata": {},
   "source": [
    "### Saving SVM Model"
   ]
  },
  {
   "cell_type": "code",
   "execution_count": null,
   "metadata": {},
   "outputs": [],
   "source": [
    "pickling_on = open(\"../models/model.pkl\",\"wb\")\n",
    "pickle.dump(model,pickling_on)\n",
    "pickling_on.close()"
   ]
  },
  {
   "cell_type": "markdown",
   "metadata": {},
   "source": [
    "### Loading Saved Model"
   ]
  },
  {
   "cell_type": "code",
   "execution_count": 7,
   "metadata": {},
   "outputs": [],
   "source": [
    "pickling_on = open(\"../models/model.pkl\",\"rb\")\n",
    "model = pickle.load(pickling_on)\n",
    "pickling_on.close()"
   ]
  },
  {
   "cell_type": "markdown",
   "metadata": {},
   "source": [
    "### Test Data Prediction"
   ]
  },
  {
   "cell_type": "code",
   "execution_count": 8,
   "metadata": {},
   "outputs": [],
   "source": [
    "y_pred = model.predict(X_test)"
   ]
  },
  {
   "cell_type": "markdown",
   "metadata": {},
   "source": [
    "## Model's Accuracy Score"
   ]
  },
  {
   "cell_type": "code",
   "execution_count": 9,
   "metadata": {},
   "outputs": [
    {
     "name": "stdout",
     "output_type": "stream",
     "text": [
      "Accuracy : 94.12 %\n"
     ]
    }
   ],
   "source": [
    "accuracy = accuracy_score(y_test, y_pred)\n",
    "print(\"Accuracy : {0:.2f} %\".format(accuracy*100))"
   ]
  },
  {
   "cell_type": "markdown",
   "metadata": {},
   "source": [
    "## Model's Confusion Matrix"
   ]
  },
  {
   "cell_type": "code",
   "execution_count": 10,
   "metadata": {},
   "outputs": [
    {
     "name": "stdout",
     "output_type": "stream",
     "text": [
      "[[1518    1    1  135]\n",
      " [   0  165    0    2]\n",
      " [   1    1  131    1]\n",
      " [  73    0    1 1642]]\n"
     ]
    }
   ],
   "source": [
    "print(confusion_matrix(y_test, y_pred))"
   ]
  },
  {
   "cell_type": "markdown",
   "metadata": {},
   "source": [
    "## Model's Classification Report"
   ]
  },
  {
   "cell_type": "code",
   "execution_count": 11,
   "metadata": {},
   "outputs": [
    {
     "name": "stdout",
     "output_type": "stream",
     "text": [
      "              precision    recall  f1-score   support\n",
      "\n",
      "         ham       0.95      0.92      0.94      1655\n",
      "   promotion       0.99      0.99      0.99       167\n",
      "      social       0.98      0.98      0.98       134\n",
      "        spam       0.92      0.96      0.94      1716\n",
      "\n",
      "    accuracy                           0.94      3672\n",
      "   macro avg       0.96      0.96      0.96      3672\n",
      "weighted avg       0.94      0.94      0.94      3672\n",
      "\n"
     ]
    }
   ],
   "source": [
    "print(classification_report(y_test,y_pred))"
   ]
  },
  {
   "cell_type": "markdown",
   "metadata": {},
   "source": [
    "# LSTM MODEL"
   ]
  },
  {
   "cell_type": "markdown",
   "metadata": {},
   "source": [
    "## Build the model"
   ]
  },
  {
   "cell_type": "code",
   "execution_count": 12,
   "metadata": {},
   "outputs": [
    {
     "name": "stdout",
     "output_type": "stream",
     "text": [
      "WARNING:tensorflow:From /home/kaush/.local/lib/python3.6/site-packages/tensorflow/python/ops/resource_variable_ops.py:435: colocate_with (from tensorflow.python.framework.ops) is deprecated and will be removed in a future version.\n",
      "Instructions for updating:\n",
      "Colocations handled automatically by placer.\n",
      "_________________________________________________________________\n",
      "Layer (type)                 Output Shape              Param #   \n",
      "=================================================================\n",
      "LSTM (LSTM)                  (None, 32)                4352      \n",
      "_________________________________________________________________\n",
      "Classifier (Dense)           (None, 4)                 132       \n",
      "=================================================================\n",
      "Total params: 4,484\n",
      "Trainable params: 4,484\n",
      "Non-trainable params: 0\n",
      "_________________________________________________________________\n",
      "None\n"
     ]
    }
   ],
   "source": [
    "clear_session()\n",
    "model = Sequential()\n",
    "model.add(LSTM(32, input_shape=(200, 1), name='LSTM'))\n",
    "model.add(Dense(4, activation='softmax', name='Classifier'))\n",
    "print(model.summary())"
   ]
  },
  {
   "cell_type": "code",
   "execution_count": 13,
   "metadata": {},
   "outputs": [
    {
     "data": {
      "image/png": "[encoded data removed]",
      "text/plain": [
       "<IPython.core.display.Image object>"
      ]
     },
     "execution_count": 13,
     "metadata": {},
     "output_type": "execute_result"
    }
   ],
   "source": [
    "from IPython.display import Image\n",
    "Image(filename='model.png') "
   ]
  },
  {
   "cell_type": "markdown",
   "metadata": {},
   "source": [
    "## If the model has been trained already, load the model\n",
    "### Run this only after the model has been trained and saved"
   ]
  },
  {
   "cell_type": "code",
   "execution_count": 12,
   "metadata": {},
   "outputs": [
    {
     "name": "stdout",
     "output_type": "stream",
     "text": [
      "_________________________________________________________________\n",
      "Layer (type)                 Output Shape              Param #   \n",
      "=================================================================\n",
      "lstm (LSTM)                  (None, 32)                4352      \n",
      "_________________________________________________________________\n",
      "dense (Dense)                (None, 4)                 132       \n",
      "=================================================================\n",
      "Total params: 4,484\n",
      "Trainable params: 4,484\n",
      "Non-trainable params: 0\n",
      "_________________________________________________________________\n",
      "None\n"
     ]
    }
   ],
   "source": [
    "model = load_model('../models/model.h5')\n",
    "print(model.summary())"
   ]
  },
  {
   "cell_type": "code",
   "execution_count": 14,
   "metadata": {},
   "outputs": [],
   "source": [
    "from IPython.display import SVG\n",
    "from tensorflow.keras.utils import plot_model\n",
    "plot_model(model)"
   ]
  },
  {
   "cell_type": "markdown",
   "metadata": {},
   "source": [
    "## We can use the same X_train and X_test data for the LSTM model. By using the same input data, we can compare the models quite well.\n",
    "\n",
    "**But, we need to encode the Labels. **"
   ]
  },
  {
   "cell_type": "code",
   "execution_count": 15,
   "metadata": {},
   "outputs": [],
   "source": [
    "encoder = LabelEncoder()\n",
    "y_train_lstm = encoder.fit_transform(y_train)\n",
    "y_test_lstm = encoder.fit_transform(y_test)"
   ]
  },
  {
   "cell_type": "markdown",
   "metadata": {},
   "source": [
    "## Save the encoder"
   ]
  },
  {
   "cell_type": "code",
   "execution_count": 16,
   "metadata": {},
   "outputs": [],
   "source": [
    "pickle.dump(encoder, open('../models/encoder.pkl', 'wb'))"
   ]
  },
  {
   "cell_type": "markdown",
   "metadata": {},
   "source": [
    "## Load the encoder"
   ]
  },
  {
   "cell_type": "code",
   "execution_count": 20,
   "metadata": {},
   "outputs": [],
   "source": [
    "encoder = pickle.load(open('../models/encoder.pkl', 'rb'))"
   ]
  },
  {
   "cell_type": "markdown",
   "metadata": {},
   "source": [
    "## For LSTM, we need to reshape the data"
   ]
  },
  {
   "cell_type": "code",
   "execution_count": 17,
   "metadata": {},
   "outputs": [
    {
     "name": "stdout",
     "output_type": "stream",
     "text": [
      "(33044, 200, 1) (3672, 200, 1)\n"
     ]
    }
   ],
   "source": [
    "X_train_lstm = X_train.toarray().reshape(-1, 200, 1)\n",
    "X_test_lstm = X_test.toarray().reshape(-1, 200, 1)\n",
    "print(X_train_lstm.shape, X_test_lstm.shape)"
   ]
  },
  {
   "cell_type": "markdown",
   "metadata": {},
   "source": [
    "## Callbacks for saving the model and stopping training if validation accuracy does not improve"
   ]
  },
  {
   "cell_type": "code",
   "execution_count": 18,
   "metadata": {},
   "outputs": [],
   "source": [
    "callbacks = [\n",
    "    EarlyStopping(patience=10),\n",
    "    ModelCheckpoint('../models/model.h5', period=5)\n",
    "]"
   ]
  },
  {
   "cell_type": "markdown",
   "metadata": {},
   "source": [
    "## Compile the model and fit the model on the data"
   ]
  },
  {
   "cell_type": "code",
   "execution_count": 19,
   "metadata": {},
   "outputs": [
    {
     "name": "stdout",
     "output_type": "stream",
     "text": [
      "Train on 29739 samples, validate on 3305 samples\n",
      "Epoch 1/250\n",
      "29739/29739 [==============================] - 15s 510us/sample - loss: 1.1456 - acc: 0.4683 - val_loss: 0.9745 - val_acc: 0.4708\n",
      "Epoch 2/250\n",
      "29739/29739 [==============================] - 14s 478us/sample - loss: 0.9772 - acc: 0.4655 - val_loss: 0.9707 - val_acc: 0.4708\n",
      "Epoch 3/250\n",
      "29739/29739 [==============================] - 14s 461us/sample - loss: 0.9766 - acc: 0.4718 - val_loss: 0.9702 - val_acc: 0.4708\n",
      "Epoch 4/250\n",
      "29739/29739 [==============================] - 14s 472us/sample - loss: 0.9757 - acc: 0.4717 - val_loss: 0.9692 - val_acc: 0.4708\n",
      "Epoch 5/250\n",
      "29739/29739 [==============================] - 14s 473us/sample - loss: 0.9751 - acc: 0.4669 - val_loss: 0.9685 - val_acc: 0.4708\n",
      "Epoch 6/250\n",
      "29739/29739 [==============================] - 14s 465us/sample - loss: 0.9742 - acc: 0.4645 - val_loss: 0.9665 - val_acc: 0.4705\n",
      "Epoch 7/250\n",
      "29739/29739 [==============================] - 14s 468us/sample - loss: 0.9698 - acc: 0.4654 - val_loss: 0.9581 - val_acc: 0.4708\n",
      "Epoch 8/250\n",
      "29739/29739 [==============================] - 14s 468us/sample - loss: 0.9543 - acc: 0.4645 - val_loss: 0.9382 - val_acc: 0.4569\n",
      "Epoch 9/250\n",
      "29739/29739 [==============================] - 14s 473us/sample - loss: 0.9314 - acc: 0.5186 - val_loss: 0.9217 - val_acc: 0.5395\n",
      "Epoch 10/250\n",
      "29739/29739 [==============================] - 14s 469us/sample - loss: 0.8952 - acc: 0.5596 - val_loss: 0.8911 - val_acc: 0.5555\n",
      "Epoch 11/250\n",
      "29739/29739 [==============================] - 14s 472us/sample - loss: 0.8796 - acc: 0.5701 - val_loss: 0.8897 - val_acc: 0.5610\n",
      "Epoch 12/250\n",
      "29739/29739 [==============================] - 14s 469us/sample - loss: 0.8718 - acc: 0.5844 - val_loss: 0.8872 - val_acc: 0.5640\n",
      "Epoch 13/250\n",
      "29739/29739 [==============================] - 14s 470us/sample - loss: 0.8665 - acc: 0.5902 - val_loss: 0.8804 - val_acc: 0.5719\n",
      "Epoch 14/250\n",
      "29739/29739 [==============================] - 14s 471us/sample - loss: 0.8602 - acc: 0.5961 - val_loss: 0.8596 - val_acc: 0.5867\n",
      "Epoch 15/250\n",
      "29739/29739 [==============================] - 14s 471us/sample - loss: 0.8399 - acc: 0.6119 - val_loss: 0.8599 - val_acc: 0.5921\n",
      "Epoch 16/250\n",
      "29739/29739 [==============================] - 14s 472us/sample - loss: 0.8307 - acc: 0.6188 - val_loss: 0.8340 - val_acc: 0.6139\n",
      "Epoch 17/250\n",
      "29739/29739 [==============================] - 14s 470us/sample - loss: 0.8208 - acc: 0.6296 - val_loss: 0.8642 - val_acc: 0.5997\n",
      "Epoch 18/250\n",
      "29739/29739 [==============================] - 14s 470us/sample - loss: 0.8179 - acc: 0.6314 - val_loss: 0.8326 - val_acc: 0.6236\n",
      "Epoch 19/250\n",
      "29739/29739 [==============================] - 14s 474us/sample - loss: 0.7929 - acc: 0.6472 - val_loss: 0.7863 - val_acc: 0.6596\n",
      "Epoch 20/250\n",
      "29739/29739 [==============================] - 14s 477us/sample - loss: 0.7659 - acc: 0.6626 - val_loss: 0.7833 - val_acc: 0.6608\n",
      "Epoch 21/250\n",
      "29739/29739 [==============================] - 14s 472us/sample - loss: 0.7627 - acc: 0.6632 - val_loss: 0.7771 - val_acc: 0.6563\n",
      "Epoch 22/250\n",
      "29739/29739 [==============================] - 14s 471us/sample - loss: 0.7514 - acc: 0.6670 - val_loss: 0.7706 - val_acc: 0.6587\n",
      "Epoch 23/250\n",
      "29739/29739 [==============================] - 14s 475us/sample - loss: 0.7344 - acc: 0.6711 - val_loss: 0.7299 - val_acc: 0.6729\n",
      "Epoch 24/250\n",
      "29739/29739 [==============================] - 14s 472us/sample - loss: 0.7192 - acc: 0.6764 - val_loss: 0.7149 - val_acc: 0.6790\n",
      "Epoch 25/250\n",
      "29739/29739 [==============================] - 14s 474us/sample - loss: 0.7080 - acc: 0.6864 - val_loss: 0.7286 - val_acc: 0.6838\n",
      "Epoch 26/250\n",
      "29739/29739 [==============================] - 14s 474us/sample - loss: 0.6947 - acc: 0.6941 - val_loss: 0.6743 - val_acc: 0.7110\n",
      "Epoch 27/250\n",
      "29739/29739 [==============================] - 14s 473us/sample - loss: 0.6768 - acc: 0.7080 - val_loss: 0.7126 - val_acc: 0.6856\n",
      "Epoch 28/250\n",
      "29739/29739 [==============================] - 14s 476us/sample - loss: 0.6636 - acc: 0.7137 - val_loss: 0.6975 - val_acc: 0.6971\n",
      "Epoch 29/250\n",
      "29739/29739 [==============================] - 14s 472us/sample - loss: 0.6418 - acc: 0.7203 - val_loss: 0.6524 - val_acc: 0.7098\n",
      "Epoch 30/250\n",
      "29739/29739 [==============================] - 14s 473us/sample - loss: 0.6390 - acc: 0.7239 - val_loss: 0.6347 - val_acc: 0.7247\n",
      "Epoch 31/250\n",
      "29739/29739 [==============================] - 14s 475us/sample - loss: 0.6323 - acc: 0.7230 - val_loss: 0.7003 - val_acc: 0.6778\n",
      "Epoch 32/250\n",
      "29739/29739 [==============================] - 14s 474us/sample - loss: 0.6220 - acc: 0.7290 - val_loss: 0.6425 - val_acc: 0.7110\n",
      "Epoch 33/250\n",
      "29739/29739 [==============================] - 14s 475us/sample - loss: 0.6295 - acc: 0.7253 - val_loss: 0.6222 - val_acc: 0.7274\n",
      "Epoch 34/250\n",
      "29739/29739 [==============================] - 14s 471us/sample - loss: 0.6051 - acc: 0.7380 - val_loss: 0.6026 - val_acc: 0.7422\n",
      "Epoch 35/250\n",
      "29739/29739 [==============================] - 14s 474us/sample - loss: 0.6028 - acc: 0.7413 - val_loss: 0.7819 - val_acc: 0.6523\n",
      "Epoch 36/250\n",
      "29739/29739 [==============================] - 14s 462us/sample - loss: 0.6201 - acc: 0.7309 - val_loss: 0.5925 - val_acc: 0.7437\n",
      "Epoch 37/250\n",
      "29739/29739 [==============================] - 14s 465us/sample - loss: 0.5901 - acc: 0.7475 - val_loss: 0.6924 - val_acc: 0.7083\n",
      "Epoch 38/250\n",
      "29739/29739 [==============================] - 14s 462us/sample - loss: 0.6323 - acc: 0.7264 - val_loss: 0.5885 - val_acc: 0.7483\n",
      "Epoch 39/250\n",
      "29739/29739 [==============================] - 14s 461us/sample - loss: 0.5720 - acc: 0.7571 - val_loss: 0.6092 - val_acc: 0.7328\n",
      "Epoch 40/250\n",
      "29739/29739 [==============================] - 14s 460us/sample - loss: 0.5817 - acc: 0.7516 - val_loss: 0.5679 - val_acc: 0.7531\n",
      "Epoch 41/250\n",
      "29739/29739 [==============================] - 14s 465us/sample - loss: 0.5642 - acc: 0.7609 - val_loss: 0.6061 - val_acc: 0.7337\n",
      "Epoch 42/250\n",
      "29739/29739 [==============================] - 14s 461us/sample - loss: 0.5722 - acc: 0.7555 - val_loss: 0.6490 - val_acc: 0.7062\n",
      "Epoch 43/250\n",
      "29739/29739 [==============================] - 14s 461us/sample - loss: 0.5743 - acc: 0.7564 - val_loss: 0.5990 - val_acc: 0.7504\n",
      "Epoch 44/250\n",
      "29739/29739 [==============================] - 14s 463us/sample - loss: 0.5559 - acc: 0.7644 - val_loss: 0.5832 - val_acc: 0.7495\n",
      "Epoch 45/250\n",
      "29739/29739 [==============================] - 14s 468us/sample - loss: 0.5520 - acc: 0.7679 - val_loss: 0.5714 - val_acc: 0.7598\n",
      "Epoch 46/250\n",
      "29739/29739 [==============================] - 14s 463us/sample - loss: 0.5524 - acc: 0.7671 - val_loss: 0.5629 - val_acc: 0.7576\n",
      "Epoch 47/250\n",
      "29739/29739 [==============================] - 14s 463us/sample - loss: 0.5448 - acc: 0.7714 - val_loss: 0.6270 - val_acc: 0.7268\n",
      "Epoch 48/250\n",
      "29739/29739 [==============================] - 14s 473us/sample - loss: 0.5586 - acc: 0.7634 - val_loss: 0.5470 - val_acc: 0.7697\n",
      "Epoch 49/250\n",
      "29739/29739 [==============================] - 14s 461us/sample - loss: 0.5409 - acc: 0.7753 - val_loss: 0.6120 - val_acc: 0.7365\n",
      "Epoch 50/250\n",
      "29739/29739 [==============================] - 14s 463us/sample - loss: 0.5741 - acc: 0.7543 - val_loss: 0.6230 - val_acc: 0.7352\n",
      "Epoch 51/250\n",
      "29739/29739 [==============================] - 14s 461us/sample - loss: 0.5405 - acc: 0.7745 - val_loss: 0.5717 - val_acc: 0.7522\n",
      "Epoch 52/250\n",
      "29739/29739 [==============================] - 14s 460us/sample - loss: 0.5362 - acc: 0.7761 - val_loss: 0.6006 - val_acc: 0.7467\n",
      "Epoch 53/250\n",
      "29739/29739 [==============================] - 14s 461us/sample - loss: 0.5583 - acc: 0.7650 - val_loss: 0.6267 - val_acc: 0.7283\n",
      "Epoch 54/250\n",
      "29739/29739 [==============================] - 14s 464us/sample - loss: 0.5428 - acc: 0.7745 - val_loss: 0.5889 - val_acc: 0.7537\n",
      "Epoch 55/250\n",
      "29739/29739 [==============================] - 14s 467us/sample - loss: 0.5222 - acc: 0.7874 - val_loss: 0.5281 - val_acc: 0.7794\n",
      "Epoch 56/250\n",
      "29739/29739 [==============================] - 14s 460us/sample - loss: 0.5224 - acc: 0.7847 - val_loss: 0.5377 - val_acc: 0.7770\n",
      "Epoch 57/250\n",
      "29739/29739 [==============================] - 14s 463us/sample - loss: 0.5132 - acc: 0.7888 - val_loss: 0.5184 - val_acc: 0.7852\n",
      "Epoch 58/250\n"
     ]
    },
    {
     "name": "stdout",
     "output_type": "stream",
     "text": [
      "29739/29739 [==============================] - 14s 460us/sample - loss: 0.5123 - acc: 0.7902 - val_loss: 0.5447 - val_acc: 0.7691\n",
      "Epoch 59/250\n",
      "29739/29739 [==============================] - 14s 467us/sample - loss: 0.5082 - acc: 0.7925 - val_loss: 0.6024 - val_acc: 0.7480\n",
      "Epoch 60/250\n",
      "29739/29739 [==============================] - 14s 461us/sample - loss: 0.5275 - acc: 0.7826 - val_loss: 0.5655 - val_acc: 0.7540\n",
      "Epoch 61/250\n",
      "29739/29739 [==============================] - 14s 466us/sample - loss: 0.5124 - acc: 0.7888 - val_loss: 0.6003 - val_acc: 0.7470\n",
      "Epoch 62/250\n",
      "29739/29739 [==============================] - 14s 461us/sample - loss: 0.5271 - acc: 0.7821 - val_loss: 0.5214 - val_acc: 0.7864\n",
      "Epoch 63/250\n",
      "29739/29739 [==============================] - 14s 467us/sample - loss: 0.5063 - acc: 0.7929 - val_loss: 0.5109 - val_acc: 0.7873\n",
      "Epoch 64/250\n",
      "29739/29739 [==============================] - 14s 470us/sample - loss: 0.5219 - acc: 0.7846 - val_loss: 0.5709 - val_acc: 0.7631\n",
      "Epoch 65/250\n",
      "29739/29739 [==============================] - 14s 461us/sample - loss: 0.5141 - acc: 0.7876 - val_loss: 0.5243 - val_acc: 0.7806\n",
      "Epoch 66/250\n",
      "29739/29739 [==============================] - 14s 464us/sample - loss: 0.5091 - acc: 0.7914 - val_loss: 0.5579 - val_acc: 0.7679\n",
      "Epoch 67/250\n",
      "29739/29739 [==============================] - 14s 462us/sample - loss: 0.5066 - acc: 0.7931 - val_loss: 0.7522 - val_acc: 0.6911\n",
      "Epoch 68/250\n",
      "29739/29739 [==============================] - 14s 461us/sample - loss: 0.5069 - acc: 0.7919 - val_loss: 0.5390 - val_acc: 0.7737\n",
      "Epoch 69/250\n",
      "29739/29739 [==============================] - 14s 462us/sample - loss: 0.4970 - acc: 0.7957 - val_loss: 0.5465 - val_acc: 0.7731\n",
      "Epoch 70/250\n",
      "29739/29739 [==============================] - 14s 463us/sample - loss: 0.4940 - acc: 0.8000 - val_loss: 0.4967 - val_acc: 0.7970\n",
      "Epoch 71/250\n",
      "29739/29739 [==============================] - 14s 462us/sample - loss: 0.4813 - acc: 0.8049 - val_loss: 0.5211 - val_acc: 0.7876\n",
      "Epoch 72/250\n",
      "29739/29739 [==============================] - 14s 462us/sample - loss: 0.5077 - acc: 0.7918 - val_loss: 0.4963 - val_acc: 0.7961\n",
      "Epoch 73/250\n",
      "29739/29739 [==============================] - 14s 461us/sample - loss: 0.4916 - acc: 0.7996 - val_loss: 0.4985 - val_acc: 0.7964\n",
      "Epoch 74/250\n",
      "29739/29739 [==============================] - 14s 463us/sample - loss: 0.4976 - acc: 0.7977 - val_loss: 0.4893 - val_acc: 0.8018\n",
      "Epoch 75/250\n",
      "29739/29739 [==============================] - 14s 462us/sample - loss: 0.4870 - acc: 0.8022 - val_loss: 0.4897 - val_acc: 0.7924\n",
      "Epoch 76/250\n",
      "29739/29739 [==============================] - 14s 462us/sample - loss: 0.4809 - acc: 0.8063 - val_loss: 0.4800 - val_acc: 0.8003\n",
      "Epoch 77/250\n",
      "29739/29739 [==============================] - 14s 462us/sample - loss: 0.4912 - acc: 0.7989 - val_loss: 0.5441 - val_acc: 0.7764\n",
      "Epoch 78/250\n",
      "29739/29739 [==============================] - 14s 461us/sample - loss: 0.4852 - acc: 0.8033 - val_loss: 0.4966 - val_acc: 0.7961\n",
      "Epoch 79/250\n",
      "29739/29739 [==============================] - 14s 461us/sample - loss: 0.4917 - acc: 0.7999 - val_loss: 0.5143 - val_acc: 0.7864\n",
      "Epoch 80/250\n",
      "29739/29739 [==============================] - 14s 463us/sample - loss: 0.4738 - acc: 0.8081 - val_loss: 0.4842 - val_acc: 0.8009\n",
      "Epoch 81/250\n",
      "29739/29739 [==============================] - 14s 462us/sample - loss: 0.4726 - acc: 0.8092 - val_loss: 0.6624 - val_acc: 0.6950\n",
      "Epoch 82/250\n",
      "29739/29739 [==============================] - 14s 460us/sample - loss: 0.4866 - acc: 0.8024 - val_loss: 0.7292 - val_acc: 0.6962\n",
      "Epoch 83/250\n",
      "29739/29739 [==============================] - 14s 461us/sample - loss: 0.5251 - acc: 0.7821 - val_loss: 0.4772 - val_acc: 0.8073\n",
      "Epoch 84/250\n",
      "29739/29739 [==============================] - 14s 462us/sample - loss: 0.4620 - acc: 0.8187 - val_loss: 0.4668 - val_acc: 0.8082\n",
      "Epoch 85/250\n",
      "29739/29739 [==============================] - 14s 463us/sample - loss: 0.4736 - acc: 0.8072 - val_loss: 0.5864 - val_acc: 0.7625\n",
      "Epoch 86/250\n",
      "29739/29739 [==============================] - 14s 462us/sample - loss: 0.4776 - acc: 0.8075 - val_loss: 0.4717 - val_acc: 0.8064\n",
      "Epoch 87/250\n",
      "29739/29739 [==============================] - 14s 462us/sample - loss: 0.4598 - acc: 0.8178 - val_loss: 0.4789 - val_acc: 0.8042\n",
      "Epoch 88/250\n",
      "29739/29739 [==============================] - 14s 463us/sample - loss: 0.4707 - acc: 0.8099 - val_loss: 0.5295 - val_acc: 0.7776\n",
      "Epoch 89/250\n",
      "29739/29739 [==============================] - 14s 479us/sample - loss: 0.4693 - acc: 0.8107 - val_loss: 0.4919 - val_acc: 0.7927\n",
      "Epoch 90/250\n",
      "29739/29739 [==============================] - 14s 477us/sample - loss: 0.4746 - acc: 0.8080 - val_loss: 0.4777 - val_acc: 0.8061\n",
      "Epoch 91/250\n",
      "29739/29739 [==============================] - 14s 461us/sample - loss: 0.4573 - acc: 0.8169 - val_loss: 0.7794 - val_acc: 0.6369\n",
      "Epoch 92/250\n",
      "29739/29739 [==============================] - 14s 460us/sample - loss: 0.4792 - acc: 0.8072 - val_loss: 0.5415 - val_acc: 0.7716\n",
      "Epoch 93/250\n",
      "29739/29739 [==============================] - 14s 462us/sample - loss: 0.4851 - acc: 0.8008 - val_loss: 0.4778 - val_acc: 0.8033\n",
      "Epoch 94/250\n",
      "29739/29739 [==============================] - 14s 462us/sample - loss: 0.4612 - acc: 0.8141 - val_loss: 0.4561 - val_acc: 0.8148\n",
      "Epoch 95/250\n",
      "29739/29739 [==============================] - 14s 465us/sample - loss: 0.4536 - acc: 0.8168 - val_loss: 0.5780 - val_acc: 0.7531\n",
      "Epoch 96/250\n",
      "29739/29739 [==============================] - 14s 462us/sample - loss: 0.4717 - acc: 0.8085 - val_loss: 0.4946 - val_acc: 0.7939\n",
      "Epoch 97/250\n",
      "29739/29739 [==============================] - 14s 463us/sample - loss: 0.4487 - acc: 0.8217 - val_loss: 0.4761 - val_acc: 0.7988\n",
      "Epoch 98/250\n",
      "29739/29739 [==============================] - 14s 465us/sample - loss: 0.4471 - acc: 0.8208 - val_loss: 0.4537 - val_acc: 0.8142\n",
      "Epoch 99/250\n",
      "29739/29739 [==============================] - 14s 461us/sample - loss: 0.4449 - acc: 0.8229 - val_loss: 0.4468 - val_acc: 0.8209\n",
      "Epoch 100/250\n",
      "29739/29739 [==============================] - 14s 463us/sample - loss: 0.4418 - acc: 0.8246 - val_loss: 0.4492 - val_acc: 0.8175\n",
      "Epoch 101/250\n",
      "29739/29739 [==============================] - 14s 469us/sample - loss: 0.4574 - acc: 0.8158 - val_loss: 0.4446 - val_acc: 0.8260\n",
      "Epoch 102/250\n",
      "29739/29739 [==============================] - 14s 467us/sample - loss: 0.4517 - acc: 0.8196 - val_loss: 0.5151 - val_acc: 0.7840\n",
      "Epoch 103/250\n",
      "29739/29739 [==============================] - 14s 472us/sample - loss: 0.4688 - acc: 0.8110 - val_loss: 0.4520 - val_acc: 0.8121\n",
      "Epoch 104/250\n",
      "29739/29739 [==============================] - 14s 472us/sample - loss: 0.4410 - acc: 0.8250 - val_loss: 0.4610 - val_acc: 0.8175\n",
      "Epoch 105/250\n",
      "29739/29739 [==============================] - 16s 550us/sample - loss: 0.4442 - acc: 0.8226 - val_loss: 0.4454 - val_acc: 0.8227\n",
      "Epoch 106/250\n",
      "29739/29739 [==============================] - 15s 504us/sample - loss: 0.4318 - acc: 0.8282 - val_loss: 0.5505 - val_acc: 0.7707\n",
      "Epoch 107/250\n",
      "29739/29739 [==============================] - 15s 490us/sample - loss: 0.4361 - acc: 0.8268 - val_loss: 0.4745 - val_acc: 0.8094\n",
      "Epoch 108/250\n",
      "29739/29739 [==============================] - 15s 501us/sample - loss: 0.4472 - acc: 0.8200 - val_loss: 0.5474 - val_acc: 0.7655\n",
      "Epoch 109/250\n",
      "29739/29739 [==============================] - 15s 488us/sample - loss: 0.4460 - acc: 0.8203 - val_loss: 0.5010 - val_acc: 0.7946\n",
      "Epoch 110/250\n",
      "29739/29739 [==============================] - 14s 484us/sample - loss: 0.4432 - acc: 0.8222 - val_loss: 0.4477 - val_acc: 0.8227\n",
      "Epoch 111/250\n",
      "29739/29739 [==============================] - 16s 535us/sample - loss: 0.4275 - acc: 0.8304 - val_loss: 0.4780 - val_acc: 0.8033\n"
     ]
    },
    {
     "data": {
      "text/plain": [
       "<tensorflow.python.keras.callbacks.History at 0x7fa06c0a9be0>"
      ]
     },
     "execution_count": 19,
     "metadata": {},
     "output_type": "execute_result"
    }
   ],
   "source": [
    "model.compile(loss='sparse_categorical_crossentropy', optimizer='adam', metrics=['accuracy'])\n",
    "model.fit(X_train_lstm, y_train_lstm, batch_size=512, epochs=250, validation_split=0.1, callbacks=callbacks)"
   ]
  },
  {
   "cell_type": "code",
   "execution_count": 20,
   "metadata": {},
   "outputs": [],
   "source": [
    "pickle.dump(model.history.history, open('../models/history.pkl', 'wb'))"
   ]
  },
  {
   "cell_type": "code",
   "execution_count": 21,
   "metadata": {},
   "outputs": [],
   "source": [
    "train_loss = model.history.history['loss']\n",
    "train_acc = model.history.history['acc']\n",
    "val_loss = model.history.history['val_loss']\n",
    "val_acc = model.history.history['val_acc']"
   ]
  },
  {
   "cell_type": "code",
   "execution_count": 25,
   "metadata": {
    "scrolled": true
   },
   "outputs": [
    {
     "data": {
      "image/png": "[encoded data removed]",
      "text/plain": [
       "<Figure size 432x288 with 1 Axes>"
      ]
     },
     "metadata": {},
     "output_type": "display_data"
    }
   ],
   "source": [
    "plt.plot(train_loss, label='Training Loss')\n",
    "plt.xlabel('Epochs')\n",
    "plt.ylabel('Loss')\n",
    "plt.plot(val_loss, label='Validation Loss')\n",
    "plt.legend()\n",
    "plt.show()"
   ]
  },
  {
   "cell_type": "code",
   "execution_count": 23,
   "metadata": {},
   "outputs": [
    {
     "data": {
      "image/png": "[encoded data removed]",
      "text/plain": [
       "<Figure size 432x288 with 1 Axes>"
      ]
     },
     "metadata": {},
     "output_type": "display_data"
    }
   ],
   "source": [
    "plt.plot(val_acc, label='Validation Accuracy')\n",
    "plt.xlabel('Epochs')\n",
    "plt.ylabel('Accuracy')\n",
    "plt.plot(train_acc, label='Training Accuracy')\n",
    "plt.legend()\n",
    "plt.show()"
   ]
  },
  {
   "cell_type": "markdown",
   "metadata": {},
   "source": [
    "## Predict the labels"
   ]
  },
  {
   "cell_type": "code",
   "execution_count": 26,
   "metadata": {},
   "outputs": [],
   "source": [
    "preds = model.predict_classes(X_test_lstm)"
   ]
  },
  {
   "cell_type": "markdown",
   "metadata": {},
   "source": [
    "## Confusion Matrix"
   ]
  },
  {
   "cell_type": "code",
   "execution_count": 27,
   "metadata": {},
   "outputs": [
    {
     "name": "stdout",
     "output_type": "stream",
     "text": [
      "[[1109   11   13  522]\n",
      " [  10  130   15   12]\n",
      " [  11    5  100   18]\n",
      " [  89   12   11 1604]]\n"
     ]
    }
   ],
   "source": [
    "print(confusion_matrix(y_test_lstm, preds))"
   ]
  },
  {
   "cell_type": "markdown",
   "metadata": {},
   "source": [
    "## Accuracy"
   ]
  },
  {
   "cell_type": "code",
   "execution_count": 28,
   "metadata": {},
   "outputs": [
    {
     "name": "stdout",
     "output_type": "stream",
     "text": [
      "Accuracy : 80.15 %\n"
     ]
    }
   ],
   "source": [
    "accuracy = accuracy_score(y_test_lstm, preds)\n",
    "print(\"Accuracy : {0:.2f} %\".format(accuracy*100))"
   ]
  },
  {
   "cell_type": "markdown",
   "metadata": {},
   "source": [
    "## Classification Report"
   ]
  },
  {
   "cell_type": "code",
   "execution_count": 29,
   "metadata": {},
   "outputs": [
    {
     "name": "stdout",
     "output_type": "stream",
     "text": [
      "              precision    recall  f1-score   support\n",
      "\n",
      "           0       0.91      0.67      0.77      1655\n",
      "           1       0.82      0.78      0.80       167\n",
      "           2       0.72      0.75      0.73       134\n",
      "           3       0.74      0.93      0.83      1716\n",
      "\n",
      "    accuracy                           0.80      3672\n",
      "   macro avg       0.80      0.78      0.78      3672\n",
      "weighted avg       0.82      0.80      0.80      3672\n",
      "\n"
     ]
    }
   ],
   "source": [
    "print(classification_report(y_test_lstm, preds))"
   ]
  },
  {
   "cell_type": "markdown",
   "metadata": {},
   "source": [
    "# Receiver Operating Characteristic of Classifier"
   ]
  },
  {
   "cell_type": "code",
   "execution_count": 10,
   "metadata": {},
   "outputs": [
    {
     "data": {
      "image/png": "[encoded data removed]",
      "text/plain": [
       "<Figure size 720x720 with 1 Axes>"
      ]
     },
     "metadata": {
      "needs_background": "light"
     },
     "output_type": "display_data"
    }
   ],
   "source": [
    "import matplotlib.pyplot as plt\n",
    "from scipy import interp\n",
    "from itertools import cycle\n",
    "from sklearn.preprocessing import label_binarize\n",
    "from sklearn.metrics import roc_curve, auc\n",
    "\n",
    "## Compute ROC curve and ROC area for each class\n",
    "y_test = label_binarize(y_test, classes=['ham', 'promotion', 'social', 'spam'])\n",
    "y_score = model.decision_function(X_test)\n",
    "\n",
    "fpr = dict()\n",
    "tpr = dict()\n",
    "roc_auc = dict()\n",
    "\n",
    "classes=['ham', 'promotion', 'social', 'spam']\n",
    "n_classes = 4\n",
    "\n",
    "for i in range(n_classes):\n",
    "    fpr[i], tpr[i], _ = roc_curve(y_test[:, i], y_score[:, i])\n",
    "    roc_auc[i] = auc(fpr[i], tpr[i])\n",
    "\n",
    "# Compute micro-average ROC curve and ROC area\n",
    "fpr[\"micro\"], tpr[\"micro\"], _ = roc_curve(y_test.ravel(), y_score.ravel())\n",
    "roc_auc[\"micro\"] = auc(fpr[\"micro\"], tpr[\"micro\"])\n",
    "\n",
    "# Compute macro-average ROC curve and ROC area\n",
    "lw=2\n",
    "\n",
    "# First aggregate all false positive rates\n",
    "all_fpr = np.unique(np.concatenate([fpr[i] for i in range(n_classes)]))\n",
    "\n",
    "# Then interpolate all ROC curves at this points\n",
    "mean_tpr = np.zeros_like(all_fpr)\n",
    "for i in range(n_classes):\n",
    "    mean_tpr += interp(all_fpr, fpr[i], tpr[i])\n",
    "\n",
    "# Finally average it and compute AUC\n",
    "mean_tpr /= n_classes\n",
    "\n",
    "fpr[\"macro\"] = all_fpr\n",
    "tpr[\"macro\"] = mean_tpr\n",
    "roc_auc[\"macro\"] = auc(fpr[\"macro\"], tpr[\"macro\"])\n",
    "\n",
    "# Plot all ROC curves\n",
    "plt.figure(figsize=(10, 10))\n",
    "plt.plot(fpr[\"micro\"], tpr[\"micro\"],\n",
    "         label='micro-average ROC curve (area = {0:0.2f})'\n",
    "               ''.format(roc_auc[\"micro\"]),\n",
    "         color='deeppink', linestyle=':', linewidth=4)\n",
    "\n",
    "plt.plot(fpr[\"macro\"], tpr[\"macro\"],\n",
    "         label='macro-average ROC curve (area = {0:0.2f})'\n",
    "               ''.format(roc_auc[\"macro\"]),\n",
    "         color='navy', linestyle=':', linewidth=4)\n",
    "\n",
    "colors = cycle(['aqua', 'darkorange', 'cornflowerblue', 'green'])\n",
    "for i, color in zip(range(4), colors):\n",
    "    plt.plot(fpr[i], tpr[i], color=color, lw=lw,\n",
    "             label='ROC curve of class {0} (area = {1:0.2f})'\n",
    "             ''.format(classes[i], roc_auc[i]))\n",
    "\n",
    "plt.plot([0, 1], [0, 1], 'k--', lw=lw)\n",
    "plt.xlim([0.0, 1.0])\n",
    "plt.ylim([0.0, 1.05])\n",
    "plt.xlabel('False Positive Rate')\n",
    "plt.ylabel('True Positive Rate')\n",
    "plt.title('Receiver operating characteristicof Spam Classifier')\n",
    "plt.legend(loc=\"lower right\")\n",
    "plt.show()"
   ]
  }
 ],
 "metadata": {
  "kernelspec": {
   "display_name": "Python 3",
   "language": "python",
   "name": "python3"
  },
  "language_info": {
   "codemirror_mode": {
    "name": "ipython",
    "version": 3
   },
   "file_extension": ".py",
   "mimetype": "text/x-python",
   "name": "python",
   "nbconvert_exporter": "python",
   "pygments_lexer": "ipython3",
   "version": "3.6.7"
  }
 },
 "nbformat": 4,
 "nbformat_minor": 2
}
