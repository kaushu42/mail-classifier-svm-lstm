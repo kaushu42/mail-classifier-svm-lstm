{
 "cells": [
  {
   "cell_type": "markdown",
   "metadata": {},
   "source": [
    "# Mail Classification Model"
   ]
  },
  {
   "cell_type": "markdown",
   "metadata": {},
   "source": [
    "## Importing Libraries"
   ]
  },
  {
   "cell_type": "code",
   "execution_count": 1,
   "metadata": {},
   "outputs": [],
   "source": [
    "import os\n",
    "import pickle\n",
    "from tqdm import tqdm\n",
    "import numpy as np\n",
    "import pandas as pd\n",
    "from sklearn.feature_extraction.text import TfidfVectorizer\n",
    "from sklearn.svm import LinearSVC\n",
    "from sklearn.model_selection import train_test_split\n",
    "from sklearn.metrics import confusion_matrix, classification_report, accuracy_score\n",
    "from sklearn.preprocessing import LabelEncoder\n",
    "from tensorflow.keras.models import Sequential\n",
    "from tensorflow.keras.layers import LSTM, Dense\n",
    "from tensorflow.keras.backend import clear_session\n",
    "from tensorflow.keras.callbacks import EarlyStopping, ModelCheckpoint\n",
    "from tensorflow.keras.models import load_model"
   ]
  },
  {
   "cell_type": "markdown",
   "metadata": {},
   "source": [
    "### Load Dataset from Files"
   ]
  },
  {
   "cell_type": "code",
   "execution_count": null,
   "metadata": {},
   "outputs": [],
   "source": [
    "# The dataset is in the folder DATA_FOLDER\n",
    "DATA_FOLDER = 'new_data'\n",
    "texts = []\n",
    "labels = []\n",
    "folders = ['ham', 'spam', 'social', 'promotion']\n",
    "for folder in folders:\n",
    "    path = f'{DATA_FOLDER}/{folder}'\n",
    "    files = os.listdir(path)\n",
    "    print('#Files: ', len(files))\n",
    "    \n",
    "    labels += [folder]*len(files)\n",
    "    \n",
    "    for file in tqdm(files):\n",
    "        text = open(f'{path}/{file}', encoding='utf-8').read()\n",
    "        texts.append(text)"
   ]
  },
  {
   "cell_type": "code",
   "execution_count": null,
   "metadata": {},
   "outputs": [],
   "source": [
    "df = pd.DataFrame(data=[texts, labels]).T\n",
    "df.columns = ['text', 'labels']"
   ]
  },
  {
   "cell_type": "markdown",
   "metadata": {},
   "source": [
    "### Save Dataset"
   ]
  },
  {
   "cell_type": "code",
   "execution_count": null,
   "metadata": {},
   "outputs": [],
   "source": [
    "pickling_on = open(\"../models/dataset.pkl\",\"wb\")\n",
    "pickle.dump(df,pickling_on)\n",
    "pickling_on.close()"
   ]
  },
  {
   "cell_type": "markdown",
   "metadata": {},
   "source": [
    "### Load Saved Dataset"
   ]
  },
  {
   "cell_type": "code",
   "execution_count": 3,
   "metadata": {},
   "outputs": [],
   "source": [
    "pickling_on = open(\"../models/dataset.pkl\",\"rb\")\n",
    "df = pickle.load(pickling_on)\n",
    "pickling_on.close()"
   ]
  },
  {
   "cell_type": "markdown",
   "metadata": {},
   "source": [
    "### TFIDF Vectorizer Fit and Transform"
   ]
  },
  {
   "cell_type": "code",
   "execution_count": 4,
   "metadata": {},
   "outputs": [],
   "source": [
    "vectorizer = TfidfVectorizer(stop_words='english', ngram_range=(1,3), max_features=200)\n",
    "x = vectorizer.fit_transform(df['text'])"
   ]
  },
  {
   "cell_type": "markdown",
   "metadata": {},
   "source": [
    "### Save Vectorizer"
   ]
  },
  {
   "cell_type": "code",
   "execution_count": 62,
   "metadata": {},
   "outputs": [],
   "source": [
    "pickling_on = open(\"../models/vectorizer.pkl\",\"wb\")\n",
    "pickle.dump(vectorizer, pickling_on)\n",
    "pickling_on.close()"
   ]
  },
  {
   "cell_type": "markdown",
   "metadata": {},
   "source": [
    "### Load Vectorizer"
   ]
  },
  {
   "cell_type": "code",
   "execution_count": null,
   "metadata": {},
   "outputs": [],
   "source": [
    "pickling_on = open(\"../models/vectorizer.pkl\",\"rb\")\n",
    "vectorizer = pickle.load(pickling_on)\n",
    "pickling_on.close()"
   ]
  },
  {
   "cell_type": "markdown",
   "metadata": {},
   "source": [
    "### Train Test Split of Dataset"
   ]
  },
  {
   "cell_type": "code",
   "execution_count": 5,
   "metadata": {},
   "outputs": [],
   "source": [
    "X_train, X_test, y_train, y_test = train_test_split(x, df.labels, test_size=0.10, random_state=42, shuffle = True, stratify=df.labels)"
   ]
  },
  {
   "cell_type": "markdown",
   "metadata": {},
   "source": [
    "# SVM MODEL"
   ]
  },
  {
   "cell_type": "markdown",
   "metadata": {},
   "source": [
    "## Create Model and Train"
   ]
  },
  {
   "cell_type": "code",
   "execution_count": null,
   "metadata": {},
   "outputs": [],
   "source": [
    "model = LinearSVC(C=10, class_weight='balanced', dual=True, fit_intercept=True,\n",
    "                intercept_scaling=1, loss='squared_hinge', max_iter=1000,\n",
    "                multi_class='ovr', penalty='l2', random_state=0, tol=1e-05, verbose=True)\n",
    "\n",
    "model.fit(X_train, y_train)"
   ]
  },
  {
   "cell_type": "markdown",
   "metadata": {},
   "source": [
    "### Saving SVM Model"
   ]
  },
  {
   "cell_type": "code",
   "execution_count": null,
   "metadata": {},
   "outputs": [],
   "source": [
    "pickling_on = open(\"../models/model.pkl\",\"wb\")\n",
    "pickle.dump(model,pickling_on)\n",
    "pickling_on.close()"
   ]
  },
  {
   "cell_type": "markdown",
   "metadata": {},
   "source": [
    "### Loading Saved Model"
   ]
  },
  {
   "cell_type": "code",
   "execution_count": 6,
   "metadata": {},
   "outputs": [
    {
     "name": "stderr",
     "output_type": "stream",
     "text": [
      "/home/connectwithprakash/anaconda3/envs/tf-gpu/lib/python3.6/site-packages/sklearn/base.py:251: UserWarning: Trying to unpickle estimator LinearSVC from version 0.20.3 when using version 0.20.2. This might lead to breaking code or invalid results. Use at your own risk.\n",
      "  UserWarning)\n"
     ]
    }
   ],
   "source": [
    "pickling_on = open(\"../models/model.pkl\",\"rb\")\n",
    "model = pickle.load(pickling_on)\n",
    "pickling_on.close()"
   ]
  },
  {
   "cell_type": "markdown",
   "metadata": {},
   "source": [
    "### Test Data Prediction"
   ]
  },
  {
   "cell_type": "code",
   "execution_count": 7,
   "metadata": {},
   "outputs": [],
   "source": [
    "y_pred = model.predict(X_test)"
   ]
  },
  {
   "cell_type": "markdown",
   "metadata": {},
   "source": [
    "## Model's Accuracy Score"
   ]
  },
  {
   "cell_type": "code",
   "execution_count": 8,
   "metadata": {},
   "outputs": [
    {
     "name": "stdout",
     "output_type": "stream",
     "text": [
      "Accuracy : 94.12 %\n"
     ]
    }
   ],
   "source": [
    "accuracy = accuracy_score(y_test, y_pred)\n",
    "print(\"Accuracy : {0:.2f} %\".format(accuracy*100))"
   ]
  },
  {
   "cell_type": "markdown",
   "metadata": {},
   "source": [
    "## Model's Confusion Matrix"
   ]
  },
  {
   "cell_type": "code",
   "execution_count": 9,
   "metadata": {},
   "outputs": [
    {
     "name": "stdout",
     "output_type": "stream",
     "text": [
      "[[1521    1    1  132]\n",
      " [   0  164    1    2]\n",
      " [   1    2  129    2]\n",
      " [  72    1    1 1642]]\n"
     ]
    }
   ],
   "source": [
    "print(confusion_matrix(y_test, y_pred))"
   ]
  },
  {
   "cell_type": "markdown",
   "metadata": {},
   "source": [
    "## Model's Classification Report"
   ]
  },
  {
   "cell_type": "code",
   "execution_count": 10,
   "metadata": {},
   "outputs": [
    {
     "name": "stdout",
     "output_type": "stream",
     "text": [
      "              precision    recall  f1-score   support\n",
      "\n",
      "         ham       0.95      0.92      0.94      1655\n",
      "   promotion       0.98      0.98      0.98       167\n",
      "      social       0.98      0.96      0.97       134\n",
      "        spam       0.92      0.96      0.94      1716\n",
      "\n",
      "    accuracy                           0.94      3672\n",
      "   macro avg       0.96      0.96      0.96      3672\n",
      "weighted avg       0.94      0.94      0.94      3672\n",
      "\n"
     ]
    }
   ],
   "source": [
    "print(classification_report(y_test,y_pred))"
   ]
  },
  {
   "cell_type": "markdown",
   "metadata": {},
   "source": [
    "# LSTM MODEL"
   ]
  },
  {
   "cell_type": "markdown",
   "metadata": {},
   "source": [
    "## Build the model"
   ]
  },
  {
   "cell_type": "code",
   "execution_count": 50,
   "metadata": {},
   "outputs": [
    {
     "name": "stdout",
     "output_type": "stream",
     "text": [
      "_________________________________________________________________\n",
      "Layer (type)                 Output Shape              Param #   \n",
      "=================================================================\n",
      "lstm (LSTM)                  (None, 32)                4352      \n",
      "_________________________________________________________________\n",
      "dense (Dense)                (None, 4)                 132       \n",
      "=================================================================\n",
      "Total params: 4,484\n",
      "Trainable params: 4,484\n",
      "Non-trainable params: 0\n",
      "_________________________________________________________________\n",
      "None\n"
     ]
    }
   ],
   "source": [
    "clear_session()\n",
    "model = Sequential()\n",
    "model.add(LSTM(32, input_shape=(200, 1)))\n",
    "model.add(Dense(4, activation='softmax'))\n",
    "print(model.summary())"
   ]
  },
  {
   "cell_type": "markdown",
   "metadata": {},
   "source": [
    "## If the model has been trained already, load the model\n",
    "### Run this only after the model has been trained and saved"
   ]
  },
  {
   "cell_type": "code",
   "execution_count": 49,
   "metadata": {},
   "outputs": [
    {
     "name": "stdout",
     "output_type": "stream",
     "text": [
      "_________________________________________________________________\n",
      "Layer (type)                 Output Shape              Param #   \n",
      "=================================================================\n",
      "lstm (LSTM)                  (None, 16)                1152      \n",
      "_________________________________________________________________\n",
      "dense (Dense)                (None, 4)                 68        \n",
      "=================================================================\n",
      "Total params: 1,220\n",
      "Trainable params: 1,220\n",
      "Non-trainable params: 0\n",
      "_________________________________________________________________\n",
      "None\n"
     ]
    }
   ],
   "source": [
    "model = load_model('../models/model.h5')\n",
    "print(model.summary())"
   ]
  },
  {
   "cell_type": "markdown",
   "metadata": {},
   "source": [
    "## We can use the same X_train and X_test data for the LSTM model. By using the same input data, we can compare the models quite well.\n",
    "\n",
    "**But, we need to encode the Labels. **"
   ]
  },
  {
   "cell_type": "code",
   "execution_count": 18,
   "metadata": {},
   "outputs": [],
   "source": [
    "encoder = LabelEncoder()\n",
    "y_train_lstm = encoder.fit_transform(y_train)\n",
    "y_test_lstm = encoder.fit_transform(y_test)"
   ]
  },
  {
   "cell_type": "markdown",
   "metadata": {},
   "source": [
    "## Save the encoder"
   ]
  },
  {
   "cell_type": "code",
   "execution_count": 19,
   "metadata": {},
   "outputs": [],
   "source": [
    "pickle.dump(encoder, open('..models/encoder.pkl', 'wb'))"
   ]
  },
  {
   "cell_type": "markdown",
   "metadata": {},
   "source": [
    "## Load the encoder"
   ]
  },
  {
   "cell_type": "code",
   "execution_count": 20,
   "metadata": {},
   "outputs": [],
   "source": [
    "encoder = pickle.load(open('../models/encoder.pkl', 'rb'))"
   ]
  },
  {
   "cell_type": "markdown",
   "metadata": {},
   "source": [
    "## For LSTM, we need to reshape the data"
   ]
  },
  {
   "cell_type": "code",
   "execution_count": 38,
   "metadata": {},
   "outputs": [
    {
     "name": "stdout",
     "output_type": "stream",
     "text": [
      "(33044, 200, 1) (3672, 200, 1)\n"
     ]
    }
   ],
   "source": [
    "X_train_lstm = X_train.toarray().reshape(-1, 200, 1)\n",
    "X_test_lstm = X_test.toarray().reshape(-1, 200, 1)\n",
    "print(X_train_lstm.shape, X_test_lstm.shape)"
   ]
  },
  {
   "cell_type": "markdown",
   "metadata": {},
   "source": [
    "## Callbacks for saving the model and stopping training if validation accuracy does not improve"
   ]
  },
  {
   "cell_type": "code",
   "execution_count": 51,
   "metadata": {},
   "outputs": [],
   "source": [
    "callbacks = [\n",
    "    EarlyStopping(patience=10),\n",
    "    ModelCheckpoint('..models/model.h5', period=5)\n",
    "]"
   ]
  },
  {
   "cell_type": "markdown",
   "metadata": {},
   "source": [
    "## Compile the model and fit the model on the data"
   ]
  },
  {
   "cell_type": "code",
   "execution_count": 52,
   "metadata": {},
   "outputs": [
    {
     "name": "stdout",
     "output_type": "stream",
     "text": [
      "Train on 29739 samples, validate on 3305 samples\n",
      "Epoch 1/250\n",
      "29739/29739 [==============================] - 14s 482us/sample - loss: 1.1495 - val_loss: 0.9745\n",
      "Epoch 2/250\n",
      "29739/29739 [==============================] - 14s 465us/sample - loss: 0.9782 - val_loss: 0.9708\n",
      "Epoch 3/250\n",
      "29739/29739 [==============================] - 14s 484us/sample - loss: 0.9768 - val_loss: 0.9703\n",
      "Epoch 4/250\n",
      "29739/29739 [==============================] - 14s 479us/sample - loss: 0.9761 - val_loss: 0.9694\n",
      "Epoch 5/250\n",
      "29739/29739 [==============================] - 14s 470us/sample - loss: 0.9744 - val_loss: 0.9734\n",
      "Epoch 6/250\n",
      "29739/29739 [==============================] - 15s 494us/sample - loss: 0.9720 - val_loss: 0.9626\n",
      "Epoch 7/250\n",
      "29739/29739 [==============================] - 14s 487us/sample - loss: 0.9527 - val_loss: 0.9266\n",
      "Epoch 8/250\n",
      "29739/29739 [==============================] - 14s 484us/sample - loss: 0.9099 - val_loss: 0.9111\n",
      "Epoch 9/250\n",
      "29739/29739 [==============================] - 15s 504us/sample - loss: 0.8962 - val_loss: 0.8853\n",
      "Epoch 10/250\n",
      "29739/29739 [==============================] - 19s 645us/sample - loss: 0.8750 - val_loss: 0.8710\n",
      "Epoch 11/250\n",
      "29739/29739 [==============================] - 18s 589us/sample - loss: 0.8679 - val_loss: 0.8679\n",
      "Epoch 12/250\n",
      "29739/29739 [==============================] - 15s 495us/sample - loss: 0.8624 - val_loss: 0.8590\n",
      "Epoch 13/250\n",
      "29739/29739 [==============================] - 14s 485us/sample - loss: 0.8538 - val_loss: 0.8742\n",
      "Epoch 14/250\n",
      "29739/29739 [==============================] - 14s 460us/sample - loss: 0.8392 - val_loss: 0.8350\n",
      "Epoch 15/250\n",
      "29739/29739 [==============================] - 14s 482us/sample - loss: 0.8271 - val_loss: 0.8237\n",
      "Epoch 16/250\n",
      "29739/29739 [==============================] - 14s 465us/sample - loss: 0.8259 - val_loss: 0.8164\n",
      "Epoch 17/250\n",
      "29739/29739 [==============================] - 14s 457us/sample - loss: 0.8195 - val_loss: 0.8661\n",
      "Epoch 18/250\n",
      "29739/29739 [==============================] - 14s 458us/sample - loss: 0.8267 - val_loss: 0.8181\n",
      "Epoch 19/250\n",
      "29739/29739 [==============================] - 14s 462us/sample - loss: 0.8066 - val_loss: 0.8034\n",
      "Epoch 20/250\n",
      "29739/29739 [==============================] - 14s 456us/sample - loss: 0.8030 - val_loss: 0.8056\n",
      "Epoch 21/250\n",
      "29739/29739 [==============================] - 17s 562us/sample - loss: 0.8211 - val_loss: 0.8825\n",
      "Epoch 22/250\n",
      "29739/29739 [==============================] - 16s 551us/sample - loss: 0.8068 - val_loss: 0.8272\n",
      "Epoch 23/250\n",
      "29739/29739 [==============================] - 16s 525us/sample - loss: 0.8090 - val_loss: 0.8433\n",
      "Epoch 24/250\n",
      "29739/29739 [==============================] - 15s 518us/sample - loss: 0.8018 - val_loss: 0.8419\n",
      "Epoch 25/250\n",
      "29739/29739 [==============================] - 15s 505us/sample - loss: 0.8065 - val_loss: 0.7913\n",
      "Epoch 26/250\n",
      "29739/29739 [==============================] - 15s 518us/sample - loss: 0.7848 - val_loss: 0.8041\n",
      "Epoch 27/250\n",
      "29739/29739 [==============================] - 15s 497us/sample - loss: 0.7843 - val_loss: 0.7741\n",
      "Epoch 28/250\n",
      "29739/29739 [==============================] - 15s 504us/sample - loss: 0.7668 - val_loss: 0.8208\n",
      "Epoch 29/250\n",
      "29739/29739 [==============================] - 15s 499us/sample - loss: 0.7720 - val_loss: 0.7627\n",
      "Epoch 30/250\n",
      "29739/29739 [==============================] - 15s 513us/sample - loss: 0.7503 - val_loss: 0.7396\n",
      "Epoch 31/250\n",
      "29739/29739 [==============================] - 15s 498us/sample - loss: 0.7517 - val_loss: 0.7466\n",
      "Epoch 32/250\n",
      "29739/29739 [==============================] - 14s 481us/sample - loss: 0.7309 - val_loss: 0.7949\n",
      "Epoch 33/250\n",
      "29739/29739 [==============================] - 14s 483us/sample - loss: 0.7321 - val_loss: 0.7706\n",
      "Epoch 34/250\n",
      "29739/29739 [==============================] - 15s 491us/sample - loss: 0.7244 - val_loss: 0.7101\n",
      "Epoch 35/250\n",
      "29739/29739 [==============================] - 16s 524us/sample - loss: 0.7134 - val_loss: 0.7401\n",
      "Epoch 36/250\n",
      "29739/29739 [==============================] - 14s 487us/sample - loss: 0.7116 - val_loss: 0.7127\n",
      "Epoch 37/250\n",
      "29739/29739 [==============================] - 16s 554us/sample - loss: 0.7032 - val_loss: 0.8441\n",
      "Epoch 38/250\n",
      "29739/29739 [==============================] - 15s 496us/sample - loss: 0.7200 - val_loss: 0.6932\n",
      "Epoch 39/250\n",
      "29739/29739 [==============================] - 15s 491us/sample - loss: 0.7018 - val_loss: 0.6962\n",
      "Epoch 40/250\n",
      "29739/29739 [==============================] - 14s 475us/sample - loss: 0.6962 - val_loss: 0.7009\n",
      "Epoch 41/250\n",
      "29739/29739 [==============================] - 14s 478us/sample - loss: 0.6801 - val_loss: 0.7353\n",
      "Epoch 42/250\n",
      "29739/29739 [==============================] - 14s 486us/sample - loss: 0.6829 - val_loss: 1.0936\n",
      "Epoch 43/250\n",
      "29739/29739 [==============================] - 15s 501us/sample - loss: 0.7910 - val_loss: 0.7209\n",
      "Epoch 44/250\n",
      "29739/29739 [==============================] - 14s 487us/sample - loss: 0.6869 - val_loss: 0.6894\n",
      "Epoch 45/250\n",
      "29739/29739 [==============================] - 15s 494us/sample - loss: 0.6757 - val_loss: 0.6938\n",
      "Epoch 46/250\n",
      "29739/29739 [==============================] - 15s 492us/sample - loss: 0.6706 - val_loss: 0.6780\n",
      "Epoch 47/250\n",
      "29739/29739 [==============================] - 16s 531us/sample - loss: 0.6636 - val_loss: 0.6690\n",
      "Epoch 48/250\n",
      "29739/29739 [==============================] - 16s 526us/sample - loss: 0.6655 - val_loss: 0.6955\n",
      "Epoch 49/250\n",
      "29739/29739 [==============================] - 15s 490us/sample - loss: 0.6722 - val_loss: 0.6897\n",
      "Epoch 50/250\n",
      "29739/29739 [==============================] - 13s 451us/sample - loss: 0.6683 - val_loss: 0.7561\n",
      "Epoch 51/250\n",
      "29739/29739 [==============================] - 13s 447us/sample - loss: 0.6584 - val_loss: 0.6542\n",
      "Epoch 52/250\n",
      "29739/29739 [==============================] - 13s 453us/sample - loss: 0.6567 - val_loss: 0.7157\n",
      "Epoch 53/250\n",
      "29739/29739 [==============================] - 13s 451us/sample - loss: 0.6495 - val_loss: 0.6408\n",
      "Epoch 54/250\n",
      "29739/29739 [==============================] - 13s 448us/sample - loss: 0.6486 - val_loss: 0.6511\n",
      "Epoch 55/250\n",
      "29739/29739 [==============================] - 13s 448us/sample - loss: 0.6616 - val_loss: 0.6413\n",
      "Epoch 56/250\n",
      "29739/29739 [==============================] - 13s 451us/sample - loss: 0.6396 - val_loss: 0.6433\n",
      "Epoch 57/250\n",
      "29739/29739 [==============================] - 14s 460us/sample - loss: 0.6363 - val_loss: 0.6325\n",
      "Epoch 58/250\n",
      "29739/29739 [==============================] - 15s 517us/sample - loss: 0.6270 - val_loss: 0.6241\n",
      "Epoch 59/250\n",
      "29739/29739 [==============================] - 15s 500us/sample - loss: 0.6235 - val_loss: 0.6238\n",
      "Epoch 60/250\n",
      "29739/29739 [==============================] - 16s 546us/sample - loss: 0.6186 - val_loss: 0.6479\n",
      "Epoch 61/250\n",
      "29739/29739 [==============================] - 15s 517us/sample - loss: 0.6128 - val_loss: 0.6032\n",
      "Epoch 62/250\n",
      "29739/29739 [==============================] - 16s 539us/sample - loss: 0.6119 - val_loss: 0.6272\n",
      "Epoch 63/250\n",
      "29739/29739 [==============================] - 15s 511us/sample - loss: 0.6136 - val_loss: 0.6016\n",
      "Epoch 64/250\n",
      "29739/29739 [==============================] - 15s 513us/sample - loss: 0.6062 - val_loss: 0.6573\n",
      "Epoch 65/250\n",
      "29739/29739 [==============================] - 15s 497us/sample - loss: 0.5957 - val_loss: 0.6241\n",
      "Epoch 66/250\n",
      "29739/29739 [==============================] - 16s 532us/sample - loss: 0.5895 - val_loss: 0.6309\n",
      "Epoch 67/250\n",
      "29739/29739 [==============================] - 16s 523us/sample - loss: 0.5877 - val_loss: 0.5980\n",
      "Epoch 68/250\n",
      "29739/29739 [==============================] - 15s 499us/sample - loss: 0.5802 - val_loss: 0.5780\n",
      "Epoch 69/250\n",
      "29739/29739 [==============================] - 15s 520us/sample - loss: 0.5760 - val_loss: 0.5883\n",
      "Epoch 70/250\n",
      "29739/29739 [==============================] - 16s 531us/sample - loss: 0.5715 - val_loss: 0.6046\n",
      "Epoch 71/250\n",
      "29739/29739 [==============================] - 18s 594us/sample - loss: 0.5663 - val_loss: 0.5738\n",
      "Epoch 72/250\n",
      "29739/29739 [==============================] - 17s 575us/sample - loss: 0.5553 - val_loss: 0.5866\n",
      "Epoch 73/250\n",
      "29739/29739 [==============================] - 15s 512us/sample - loss: 0.5974 - val_loss: 0.6026\n",
      "Epoch 74/250\n",
      "29739/29739 [==============================] - 15s 509us/sample - loss: 0.5667 - val_loss: 0.6227\n",
      "Epoch 75/250\n",
      "29739/29739 [==============================] - 16s 539us/sample - loss: 0.5604 - val_loss: 0.5629\n",
      "Epoch 76/250\n",
      "29739/29739 [==============================] - 17s 563us/sample - loss: 0.5621 - val_loss: 0.6175\n",
      "Epoch 77/250\n",
      "29739/29739 [==============================] - 15s 518us/sample - loss: 0.5560 - val_loss: 0.5952\n",
      "Epoch 78/250\n",
      "29739/29739 [==============================] - 15s 493us/sample - loss: 0.5478 - val_loss: 0.5673\n",
      "Epoch 79/250\n",
      "29739/29739 [==============================] - 15s 521us/sample - loss: 0.5443 - val_loss: 0.5674\n",
      "Epoch 80/250\n",
      "29739/29739 [==============================] - 15s 514us/sample - loss: 0.5542 - val_loss: 0.7325\n",
      "Epoch 81/250\n",
      "29739/29739 [==============================] - 16s 530us/sample - loss: 0.5443 - val_loss: 0.6073\n",
      "Epoch 82/250\n",
      "29739/29739 [==============================] - 15s 513us/sample - loss: 0.5484 - val_loss: 1.0106\n",
      "Epoch 83/250\n",
      "29739/29739 [==============================] - 15s 519us/sample - loss: 0.5637 - val_loss: 0.5677\n",
      "Epoch 84/250\n",
      "29739/29739 [==============================] - 19s 636us/sample - loss: 0.5255 - val_loss: 0.5419\n",
      "Epoch 85/250\n",
      "29739/29739 [==============================] - 17s 573us/sample - loss: 0.5324 - val_loss: 0.6776\n",
      "Epoch 86/250\n",
      "29739/29739 [==============================] - 16s 532us/sample - loss: 0.5290 - val_loss: 0.5501\n",
      "Epoch 87/250\n",
      "29739/29739 [==============================] - 17s 560us/sample - loss: 0.5231 - val_loss: 0.7471\n",
      "Epoch 88/250\n",
      "29739/29739 [==============================] - 16s 522us/sample - loss: 0.5463 - val_loss: 0.5402\n",
      "Epoch 89/250\n",
      "29739/29739 [==============================] - 16s 530us/sample - loss: 0.5121 - val_loss: 0.6195\n",
      "Epoch 90/250\n",
      "29739/29739 [==============================] - 18s 608us/sample - loss: 0.5280 - val_loss: 0.5250\n",
      "Epoch 91/250\n",
      "29739/29739 [==============================] - 15s 520us/sample - loss: 0.5093 - val_loss: 0.5191\n",
      "Epoch 92/250\n",
      "29739/29739 [==============================] - 15s 502us/sample - loss: 0.4997 - val_loss: 0.5246\n",
      "Epoch 93/250\n",
      "29739/29739 [==============================] - 16s 540us/sample - loss: 0.5208 - val_loss: 0.6343\n",
      "Epoch 94/250\n",
      "29739/29739 [==============================] - 16s 545us/sample - loss: 0.5101 - val_loss: 0.5260\n",
      "Epoch 95/250\n",
      "29739/29739 [==============================] - 16s 533us/sample - loss: 0.4939 - val_loss: 0.5194\n",
      "Epoch 96/250\n",
      "29739/29739 [==============================] - 16s 544us/sample - loss: 0.5259 - val_loss: 0.5118\n",
      "Epoch 97/250\n",
      "29739/29739 [==============================] - 15s 498us/sample - loss: 0.4995 - val_loss: 0.5026\n",
      "Epoch 98/250\n",
      "29739/29739 [==============================] - 15s 512us/sample - loss: 0.4881 - val_loss: 0.6484\n",
      "Epoch 99/250\n",
      "29739/29739 [==============================] - 15s 498us/sample - loss: 0.4961 - val_loss: 0.5228\n",
      "Epoch 100/250\n",
      "29739/29739 [==============================] - 15s 511us/sample - loss: 0.4971 - val_loss: 0.5002\n",
      "Epoch 101/250\n",
      "29739/29739 [==============================] - 15s 512us/sample - loss: 0.4810 - val_loss: 0.5048\n",
      "Epoch 102/250\n",
      "29739/29739 [==============================] - 15s 503us/sample - loss: 0.4922 - val_loss: 0.5493\n",
      "Epoch 103/250\n",
      "29739/29739 [==============================] - 15s 504us/sample - loss: 0.4854 - val_loss: 0.5578\n",
      "Epoch 104/250\n",
      "29739/29739 [==============================] - 15s 501us/sample - loss: 0.4996 - val_loss: 0.4941\n",
      "Epoch 105/250\n",
      "29739/29739 [==============================] - 14s 487us/sample - loss: 0.4763 - val_loss: 0.5390\n",
      "Epoch 106/250\n",
      "29739/29739 [==============================] - 15s 503us/sample - loss: 0.4825 - val_loss: 0.5053\n",
      "Epoch 107/250\n",
      "29739/29739 [==============================] - 16s 532us/sample - loss: 0.4661 - val_loss: 0.4997\n",
      "Epoch 108/250\n",
      "29739/29739 [==============================] - 17s 559us/sample - loss: 0.4739 - val_loss: 0.6078\n",
      "Epoch 109/250\n",
      "29739/29739 [==============================] - 15s 490us/sample - loss: 0.4769 - val_loss: 0.5869\n",
      "Epoch 110/250\n",
      "29739/29739 [==============================] - 17s 564us/sample - loss: 0.4764 - val_loss: 0.4906\n",
      "Epoch 111/250\n",
      "29739/29739 [==============================] - 14s 482us/sample - loss: 0.4807 - val_loss: 0.4778\n",
      "Epoch 112/250\n",
      "29739/29739 [==============================] - 13s 447us/sample - loss: 0.4611 - val_loss: 0.4957\n",
      "Epoch 113/250\n",
      "29739/29739 [==============================] - 13s 449us/sample - loss: 0.4512 - val_loss: 0.4845\n",
      "Epoch 114/250\n",
      "29739/29739 [==============================] - 13s 452us/sample - loss: 0.4435 - val_loss: 0.4696\n",
      "Epoch 115/250\n",
      "29739/29739 [==============================] - 15s 517us/sample - loss: 0.4730 - val_loss: 0.4673\n",
      "Epoch 116/250\n",
      "29739/29739 [==============================] - 15s 500us/sample - loss: 0.4559 - val_loss: 0.4557\n",
      "Epoch 117/250\n",
      "29739/29739 [==============================] - 15s 499us/sample - loss: 0.4499 - val_loss: 0.4561\n",
      "Epoch 118/250\n",
      "29739/29739 [==============================] - 16s 532us/sample - loss: 0.4605 - val_loss: 0.5009\n",
      "Epoch 119/250\n",
      "29739/29739 [==============================] - 15s 499us/sample - loss: 0.4312 - val_loss: 0.4446\n",
      "Epoch 120/250\n",
      "29739/29739 [==============================] - 15s 520us/sample - loss: 0.4765 - val_loss: 0.4678\n",
      "Epoch 121/250\n",
      "29739/29739 [==============================] - 16s 523us/sample - loss: 0.4354 - val_loss: 0.6784\n",
      "Epoch 122/250\n",
      "29739/29739 [==============================] - 14s 486us/sample - loss: 0.4608 - val_loss: 0.4583\n",
      "Epoch 123/250\n",
      "29739/29739 [==============================] - 14s 459us/sample - loss: 0.4300 - val_loss: 0.4655\n",
      "Epoch 124/250\n",
      "29739/29739 [==============================] - 14s 484us/sample - loss: 0.4293 - val_loss: 0.4487\n",
      "Epoch 125/250\n",
      "29739/29739 [==============================] - 15s 489us/sample - loss: 0.4320 - val_loss: 0.4943\n",
      "Epoch 126/250\n",
      "29739/29739 [==============================] - 14s 472us/sample - loss: 0.4215 - val_loss: 0.5224\n",
      "Epoch 127/250\n",
      "29739/29739 [==============================] - 16s 527us/sample - loss: 0.4247 - val_loss: 0.5286\n",
      "Epoch 128/250\n",
      "29739/29739 [==============================] - 15s 513us/sample - loss: 0.4209 - val_loss: 0.5179\n",
      "Epoch 129/250\n",
      "29739/29739 [==============================] - 15s 508us/sample - loss: 0.4310 - val_loss: 0.4598\n"
     ]
    },
    {
     "data": {
      "text/plain": [
       "<tensorflow.python.keras.callbacks.History at 0x7f8fd12b9ba8>"
      ]
     },
     "execution_count": 52,
     "metadata": {},
     "output_type": "execute_result"
    }
   ],
   "source": [
    "model.compile(loss='sparse_categorical_crossentropy', optimizer='adam')\n",
    "model.fit(X_train_lstm, y_train_lstm, batch_size=512, epochs=250, validation_split=0.1, callbacks=callbacks)"
   ]
  },
  {
   "cell_type": "markdown",
   "metadata": {},
   "source": [
    "## Predict the labels"
   ]
  },
  {
   "cell_type": "code",
   "execution_count": 53,
   "metadata": {},
   "outputs": [],
   "source": [
    "preds = model.predict_classes(X_test_lstm)"
   ]
  },
  {
   "cell_type": "markdown",
   "metadata": {},
   "source": [
    "## Confusion Matrix"
   ]
  },
  {
   "cell_type": "code",
   "execution_count": 54,
   "metadata": {},
   "outputs": [
    {
     "name": "stdout",
     "output_type": "stream",
     "text": [
      "[[1185    7    8  455]\n",
      " [   5  128   16   18]\n",
      " [   7   11   92   24]\n",
      " [  98    3   11 1604]]\n"
     ]
    }
   ],
   "source": [
    "print(confusion_matrix(y_test_lstm, preds))"
   ]
  },
  {
   "cell_type": "markdown",
   "metadata": {},
   "source": [
    "## Accuracy"
   ]
  },
  {
   "cell_type": "code",
   "execution_count": 59,
   "metadata": {},
   "outputs": [
    {
     "name": "stdout",
     "output_type": "stream",
     "text": [
      "Accuracy : 81.94 %\n"
     ]
    }
   ],
   "source": [
    "accuracy = accuracy_score(y_test_lstm, preds)\n",
    "print(\"Accuracy : {0:.2f} %\".format(accuracy*100))"
   ]
  },
  {
   "cell_type": "markdown",
   "metadata": {},
   "source": [
    "## Classification Report"
   ]
  },
  {
   "cell_type": "code",
   "execution_count": 60,
   "metadata": {},
   "outputs": [
    {
     "name": "stdout",
     "output_type": "stream",
     "text": [
      "              precision    recall  f1-score   support\n",
      "\n",
      "           0       0.92      0.72      0.80      1655\n",
      "           1       0.86      0.77      0.81       167\n",
      "           2       0.72      0.69      0.70       134\n",
      "           3       0.76      0.93      0.84      1716\n",
      "\n",
      "    accuracy                           0.82      3672\n",
      "   macro avg       0.82      0.78      0.79      3672\n",
      "weighted avg       0.83      0.82      0.82      3672\n",
      "\n"
     ]
    }
   ],
   "source": [
    "print(classification_report(y_test_lstm, preds))"
   ]
  },
  {
   "cell_type": "markdown",
   "metadata": {},
   "source": [
    "# Receiver Operating Characteristic of Classifier"
   ]
  },
  {
   "cell_type": "code",
   "execution_count": 10,
   "metadata": {},
   "outputs": [
    {
     "data": {
      "image/png": "[encoded data removed]",
      "text/plain": [
       "<Figure size 720x720 with 1 Axes>"
      ]
     },
     "metadata": {
      "needs_background": "light"
     },
     "output_type": "display_data"
    }
   ],
   "source": [
    "import matplotlib.pyplot as plt\n",
    "from scipy import interp\n",
    "from itertools import cycle\n",
    "from sklearn.preprocessing import label_binarize\n",
    "from sklearn.metrics import roc_curve, auc\n",
    "\n",
    "## Compute ROC curve and ROC area for each class\n",
    "y_test = label_binarize(y_test, classes=['ham', 'promotion', 'social', 'spam'])\n",
    "y_score = model.decision_function(X_test)\n",
    "\n",
    "fpr = dict()\n",
    "tpr = dict()\n",
    "roc_auc = dict()\n",
    "\n",
    "classes=['ham', 'promotion', 'social', 'spam']\n",
    "n_classes = 4\n",
    "\n",
    "for i in range(n_classes):\n",
    "    fpr[i], tpr[i], _ = roc_curve(y_test[:, i], y_score[:, i])\n",
    "    roc_auc[i] = auc(fpr[i], tpr[i])\n",
    "\n",
    "# Compute micro-average ROC curve and ROC area\n",
    "fpr[\"micro\"], tpr[\"micro\"], _ = roc_curve(y_test.ravel(), y_score.ravel())\n",
    "roc_auc[\"micro\"] = auc(fpr[\"micro\"], tpr[\"micro\"])\n",
    "\n",
    "# Compute macro-average ROC curve and ROC area\n",
    "lw=2\n",
    "\n",
    "# First aggregate all false positive rates\n",
    "all_fpr = np.unique(np.concatenate([fpr[i] for i in range(n_classes)]))\n",
    "\n",
    "# Then interpolate all ROC curves at this points\n",
    "mean_tpr = np.zeros_like(all_fpr)\n",
    "for i in range(n_classes):\n",
    "    mean_tpr += interp(all_fpr, fpr[i], tpr[i])\n",
    "\n",
    "# Finally average it and compute AUC\n",
    "mean_tpr /= n_classes\n",
    "\n",
    "fpr[\"macro\"] = all_fpr\n",
    "tpr[\"macro\"] = mean_tpr\n",
    "roc_auc[\"macro\"] = auc(fpr[\"macro\"], tpr[\"macro\"])\n",
    "\n",
    "# Plot all ROC curves\n",
    "plt.figure(figsize=(10, 10))\n",
    "plt.plot(fpr[\"micro\"], tpr[\"micro\"],\n",
    "         label='micro-average ROC curve (area = {0:0.2f})'\n",
    "               ''.format(roc_auc[\"micro\"]),\n",
    "         color='deeppink', linestyle=':', linewidth=4)\n",
    "\n",
    "plt.plot(fpr[\"macro\"], tpr[\"macro\"],\n",
    "         label='macro-average ROC curve (area = {0:0.2f})'\n",
    "               ''.format(roc_auc[\"macro\"]),\n",
    "         color='navy', linestyle=':', linewidth=4)\n",
    "\n",
    "colors = cycle(['aqua', 'darkorange', 'cornflowerblue', 'green'])\n",
    "for i, color in zip(range(4), colors):\n",
    "    plt.plot(fpr[i], tpr[i], color=color, lw=lw,\n",
    "             label='ROC curve of class {0} (area = {1:0.2f})'\n",
    "             ''.format(classes[i], roc_auc[i]))\n",
    "\n",
    "plt.plot([0, 1], [0, 1], 'k--', lw=lw)\n",
    "plt.xlim([0.0, 1.0])\n",
    "plt.ylim([0.0, 1.05])\n",
    "plt.xlabel('False Positive Rate')\n",
    "plt.ylabel('True Positive Rate')\n",
    "plt.title('Receiver operating characteristicof Spam Classifier')\n",
    "plt.legend(loc=\"lower right\")\n",
    "plt.show()"
   ]
  }
 ],
 "metadata": {
  "kernelspec": {
   "display_name": "TensorFlow-GPU",
   "language": "python",
   "name": "tf-gpu"
  },
  "language_info": {
   "codemirror_mode": {
    "name": "ipython",
    "version": 3
   },
   "file_extension": ".py",
   "mimetype": "text/x-python",
   "name": "python",
   "nbconvert_exporter": "python",
   "pygments_lexer": "ipython3",
   "version": "3.6.8"
  }
 },
 "nbformat": 4,
 "nbformat_minor": 2
}
