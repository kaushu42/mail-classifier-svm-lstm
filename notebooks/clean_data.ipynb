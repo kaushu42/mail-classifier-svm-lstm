{
 "cells": [
  {
   "cell_type": "code",
   "execution_count": 1,
   "metadata": {},
   "outputs": [],
   "source": [
    "import os\n",
    "import re\n",
    "from tqdm import tqdm\n",
    "from nltk.corpus import stopwords\n",
    "from nltk.stem import PorterStemmer, LancasterStemmer"
   ]
  },
  {
   "cell_type": "code",
   "execution_count": 2,
   "metadata": {},
   "outputs": [],
   "source": [
    "def stem(stemmer, sentence):\n",
    "    '''\n",
    "        Given a stemmer and a sentence, stem each word in the sentence and return the sentence.\n",
    "    '''\n",
    "    words = sentence.split()\n",
    "    words = [stemmer.stem(w) for w in words]\n",
    "    return ' '.join(words)\n",
    "\n",
    "def clean(text):\n",
    "    '''\n",
    "        Remove all special characters from the text. Only keep the characters from a-z and whitespaces.\n",
    "    '''\n",
    "    return re.sub(r'[^a-z\\s]', '', text)"
   ]
  },
  {
   "cell_type": "code",
   "execution_count": 3,
   "metadata": {},
   "outputs": [
    {
     "data": {
      "text/plain": [
       "['enron_labels.npy',\n",
       " 'new_data',\n",
       " '~$esis proposal.docx',\n",
       " 'enron edited.py',\n",
       " 'clean_data.ipynb',\n",
       " '~WRL1209.tmp',\n",
       " 'enron-spam filter',\n",
       " '~WRL0369.tmp',\n",
       " 'enron_features_matrix.npy',\n",
       " 'enron-spamfilter.py',\n",
       " '.ipynb_checkpoints',\n",
       " 'dict_enron.npy']"
      ]
     },
     "execution_count": 3,
     "metadata": {},
     "output_type": "execute_result"
    }
   ],
   "source": [
    "# Get all files in the current directory\n",
    "files = os.listdir()\n",
    "files"
   ]
  },
  {
   "cell_type": "code",
   "execution_count": 12,
   "metadata": {},
   "outputs": [],
   "source": [
    "# Initialize the stemmer. You can use other stemmers like Lancaster Stemmer as well.\n",
    "stemmer = PorterStemmer()"
   ]
  },
  {
   "cell_type": "markdown",
   "metadata": {},
   "source": [
    "# Read all the files and clean them\n",
    "* involves stemming and special character removal\n",
    "* The files are assumed to be inside a a folder name stored in FOLDER_NAME "
   ]
  },
  {
   "cell_type": "code",
   "execution_count": 13,
   "metadata": {},
   "outputs": [
    {
     "name": "stderr",
     "output_type": "stream",
     "text": [
      "  0%|          | 23/16545 [00:00<01:12, 228.39it/s]"
     ]
    },
    {
     "name": "stdout",
     "output_type": "stream",
     "text": [
      "#Files:  16545\n"
     ]
    },
    {
     "name": "stderr",
     "output_type": "stream",
     "text": [
      "100%|██████████| 16545/16545 [01:38<00:00, 168.50it/s]\n",
      "  0%|          | 26/17157 [00:00<01:07, 255.19it/s]"
     ]
    },
    {
     "name": "stdout",
     "output_type": "stream",
     "text": [
      "#Files:  17157\n"
     ]
    },
    {
     "name": "stderr",
     "output_type": "stream",
     "text": [
      "100%|██████████| 17157/17157 [01:21<00:00, 210.64it/s]\n",
      "  2%|▏         | 25/1341 [00:00<00:05, 246.46it/s]"
     ]
    },
    {
     "name": "stdout",
     "output_type": "stream",
     "text": [
      "#Files:  1341\n"
     ]
    },
    {
     "name": "stderr",
     "output_type": "stream",
     "text": [
      "100%|██████████| 1341/1341 [00:05<00:00, 230.02it/s]\n",
      "  1%|          | 16/1673 [00:00<00:11, 140.02it/s]"
     ]
    },
    {
     "name": "stdout",
     "output_type": "stream",
     "text": [
      "#Files:  1673\n"
     ]
    },
    {
     "name": "stderr",
     "output_type": "stream",
     "text": [
      "100%|██████████| 1673/1673 [00:09<00:00, 174.64it/s]\n"
     ]
    }
   ],
   "source": [
    "FOLDER_NAME = 'new_data'\n",
    "folders = ['ham', 'spam', 'social', 'promotion']\n",
    "# For each category: Read Data, Clean it, Write it to file\n",
    "for folder in folders:\n",
    "    path = f'{FOLDER_NAME}/{folder}'\n",
    "    files = os.listdir(path)\n",
    "    print('#Files: ', len(files))\n",
    "\n",
    "    for file in tqdm(files):\n",
    "        if file.endswith('.txt'):\n",
    "            try:\n",
    "                text = open(f'{path}/{file}', encoding='utf-8').read() # Most files have ASCII encoding\n",
    "            except Exception as e:\n",
    "                text = open(f'{path}/{file}', encoding=\"ISO-8859-1\").read() # Some files are not in ASCII format\n",
    "            finally:\n",
    "                text = clean(text.lower())\n",
    "                text = stem(stemmer, text)\n",
    "                f = open(f'{path}/{file}', 'w')\n",
    "                f.write(text)\n",
    "                f.close()"
   ]
  }
 ],
 "metadata": {
  "kernelspec": {
   "display_name": "Python 3",
   "language": "python",
   "name": "python3"
  },
  "language_info": {
   "codemirror_mode": {
    "name": "ipython",
    "version": 3
   },
   "file_extension": ".py",
   "mimetype": "text/x-python",
   "name": "python",
   "nbconvert_exporter": "python",
   "pygments_lexer": "ipython3",
   "version": "3.6.7"
  }
 },
 "nbformat": 4,
 "nbformat_minor": 2
}
